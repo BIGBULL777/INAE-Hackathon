{
 "cells": [
  {
   "cell_type": "code",
   "execution_count": 1,
   "id": "e13de1bd",
   "metadata": {},
   "outputs": [],
   "source": [
    "from attention import AttentionLayer"
   ]
  },
  {
   "cell_type": "code",
   "execution_count": 2,
   "id": "13c00e50",
   "metadata": {},
   "outputs": [],
   "source": [
    "import numpy as np  \n",
    "import pandas as pd \n",
    "import re           \n",
    "from bs4 import BeautifulSoup \n",
    "from keras.preprocessing.text import Tokenizer \n",
    "from keras_preprocessing.sequence import pad_sequences\n",
    "from nltk.corpus import stopwords   \n",
    "from tensorflow.keras.layers import Input, LSTM, Embedding, Dense, Concatenate, TimeDistributed, Bidirectional\n",
    "from tensorflow.keras.models import Model\n",
    "from tensorflow.keras.callbacks import EarlyStopping\n",
    "import warnings\n",
    "pd.set_option(\"display.max_colwidth\", 200)\n",
    "warnings.filterwarnings(\"ignore\")"
   ]
  },
  {
   "cell_type": "code",
   "execution_count": 3,
   "id": "00c94763",
   "metadata": {},
   "outputs": [
    {
     "name": "stdout",
     "output_type": "stream",
     "text": [
      "<class 'pandas.core.frame.DataFrame'>\n",
      "RangeIndex: 2000 entries, 0 to 1999\n",
      "Data columns (total 3 columns):\n",
      " #   Column    Non-Null Count  Dtype \n",
      "---  ------    --------------  ----- \n",
      " 0   FileName  2000 non-null   object\n",
      " 1   Abstract  2000 non-null   object\n",
      " 2   RHS       2000 non-null   object\n",
      "dtypes: object(3)\n",
      "memory usage: 47.0+ KB\n"
     ]
    }
   ],
   "source": [
    "data=pd.read_csv(\"train.csv\")\n",
    "data.head()\n",
    "data.info()"
   ]
  },
  {
   "cell_type": "code",
   "execution_count": 4,
   "id": "0ccb403a",
   "metadata": {},
   "outputs": [
    {
     "data": {
      "text/html": [
       "<div>\n",
       "<style scoped>\n",
       "    .dataframe tbody tr th:only-of-type {\n",
       "        vertical-align: middle;\n",
       "    }\n",
       "\n",
       "    .dataframe tbody tr th {\n",
       "        vertical-align: top;\n",
       "    }\n",
       "\n",
       "    .dataframe thead th {\n",
       "        text-align: right;\n",
       "    }\n",
       "</style>\n",
       "<table border=\"1\" class=\"dataframe\">\n",
       "  <thead>\n",
       "    <tr style=\"text-align: right;\">\n",
       "      <th></th>\n",
       "      <th>Abstract</th>\n",
       "      <th>RHS</th>\n",
       "    </tr>\n",
       "  </thead>\n",
       "  <tbody>\n",
       "    <tr>\n",
       "      <th>0</th>\n",
       "      <td>Human face can be seen as a soft tissue organ complex with a large investing network of musculature . Due to its complexity most existing computational models approximate these muscular structure...</td>\n",
       "      <td>We model the deformation of the human face due to muscle contraction. 3 D muscles with anatomical geometry and fibre orientation is used. Muscle forces are represented as discrete point load at th...</td>\n",
       "    </tr>\n",
       "  </tbody>\n",
       "</table>\n",
       "</div>"
      ],
      "text/plain": [
       "                                                                                                                                                                                                  Abstract  \\\n",
       "0   Human face can be seen as a soft tissue organ complex with a large investing network of musculature . Due to its complexity most existing computational models approximate these muscular structure...   \n",
       "\n",
       "                                                                                                                                                                                                       RHS  \n",
       "0  We model the deformation of the human face due to muscle contraction. 3 D muscles with anatomical geometry and fibre orientation is used. Muscle forces are represented as discrete point load at th...  "
      ]
     },
     "execution_count": 4,
     "metadata": {},
     "output_type": "execute_result"
    }
   ],
   "source": [
    "data1 = pd.read_csv('val.csv')\n",
    "data1.head(1)\n",
    "data1 = data1[['Abstract','RHS']]\n",
    "data1.head(1)"
   ]
  },
  {
   "cell_type": "code",
   "execution_count": 5,
   "id": "47242da1",
   "metadata": {},
   "outputs": [
    {
     "data": {
      "text/plain": [
       "Abstract    0\n",
       "RHS         0\n",
       "dtype: int64"
      ]
     },
     "execution_count": 5,
     "metadata": {},
     "output_type": "execute_result"
    }
   ],
   "source": [
    "data1.isnull().sum()"
   ]
  },
  {
   "cell_type": "code",
   "execution_count": 6,
   "id": "6537a8d9",
   "metadata": {},
   "outputs": [
    {
     "data": {
      "text/plain": [
       "0"
      ]
     },
     "execution_count": 6,
     "metadata": {},
     "output_type": "execute_result"
    }
   ],
   "source": [
    "data1.duplicated().sum()"
   ]
  },
  {
   "cell_type": "code",
   "execution_count": 7,
   "id": "ea744a48",
   "metadata": {},
   "outputs": [
    {
     "data": {
      "text/html": [
       "<div>\n",
       "<style scoped>\n",
       "    .dataframe tbody tr th:only-of-type {\n",
       "        vertical-align: middle;\n",
       "    }\n",
       "\n",
       "    .dataframe tbody tr th {\n",
       "        vertical-align: top;\n",
       "    }\n",
       "\n",
       "    .dataframe thead th {\n",
       "        text-align: right;\n",
       "    }\n",
       "</style>\n",
       "<table border=\"1\" class=\"dataframe\">\n",
       "  <thead>\n",
       "    <tr style=\"text-align: right;\">\n",
       "      <th></th>\n",
       "      <th>Abstract</th>\n",
       "      <th>RHS</th>\n",
       "    </tr>\n",
       "  </thead>\n",
       "  <tbody>\n",
       "    <tr>\n",
       "      <th>0</th>\n",
       "      <td>This paper introduces four classes of rotation invariant orthogonal moments by generalizing four existing moments that use harmonic functions in their radial kernels . Members of these classes sh...</td>\n",
       "      <td>We generalize polar harmonic transforms for pattern description recognition. The generalization maintains beneficial properties of existing transforms. The completeness of the corresponding basis ...</td>\n",
       "    </tr>\n",
       "    <tr>\n",
       "      <th>1</th>\n",
       "      <td>In this paper a MATLAB based graphical user interface software tool for general biomedical signal processing and analysis of functional neuroimaging data is introduced . Specifically electroencep...</td>\n",
       "      <td>Design of a MATLAB based GUI tool for general biomedical signal processing and analysis. EEG and ECG signals can be processed and analyzed by the designed tool. The easy to use and easy to learn i...</td>\n",
       "    </tr>\n",
       "    <tr>\n",
       "      <th>2</th>\n",
       "      <td>Background and objective A markerless low cost prototype has been developed for the determination of some spatio temporal parameters of human gait step length step width and cadence have been con...</td>\n",
       "      <td>A markerless low cost system for the estimation of some spatial temporal parameters of human gait. A system usable on not instrumented treadmill. A system characterized by a very high level of aut...</td>\n",
       "    </tr>\n",
       "    <tr>\n",
       "      <th>3</th>\n",
       "      <td>This paper presents an improved multiple instance learning tracker representing target with Distribution Fields and building a weighted geometric mean MIL classifier . Firstly we adopt DF layer a...</td>\n",
       "      <td>We adopt Distribution Field DF layer as feature instead of traditional Haar like one to robustly model the target. We derive an online weighted geometric mean MIL classifier to select the most dis...</td>\n",
       "    </tr>\n",
       "    <tr>\n",
       "      <th>4</th>\n",
       "      <td>Text based image retrieval may perform poorly due to the irrelevant and or incomplete text surrounding the images in the web pages . In such situations visual content of the images can be leverag...</td>\n",
       "      <td>A system that constructs multi instance bags from text based retrieval order. Ensemble of MI classifiers is learned using these multi instance bags. We report image re ranking performance on multi...</td>\n",
       "    </tr>\n",
       "  </tbody>\n",
       "</table>\n",
       "</div>"
      ],
      "text/plain": [
       "                                                                                                                                                                                                  Abstract  \\\n",
       "0   This paper introduces four classes of rotation invariant orthogonal moments by generalizing four existing moments that use harmonic functions in their radial kernels . Members of these classes sh...   \n",
       "1   In this paper a MATLAB based graphical user interface software tool for general biomedical signal processing and analysis of functional neuroimaging data is introduced . Specifically electroencep...   \n",
       "2   Background and objective A markerless low cost prototype has been developed for the determination of some spatio temporal parameters of human gait step length step width and cadence have been con...   \n",
       "3   This paper presents an improved multiple instance learning tracker representing target with Distribution Fields and building a weighted geometric mean MIL classifier . Firstly we adopt DF layer a...   \n",
       "4   Text based image retrieval may perform poorly due to the irrelevant and or incomplete text surrounding the images in the web pages . In such situations visual content of the images can be leverag...   \n",
       "\n",
       "                                                                                                                                                                                                       RHS  \n",
       "0  We generalize polar harmonic transforms for pattern description recognition. The generalization maintains beneficial properties of existing transforms. The completeness of the corresponding basis ...  \n",
       "1  Design of a MATLAB based GUI tool for general biomedical signal processing and analysis. EEG and ECG signals can be processed and analyzed by the designed tool. The easy to use and easy to learn i...  \n",
       "2  A markerless low cost system for the estimation of some spatial temporal parameters of human gait. A system usable on not instrumented treadmill. A system characterized by a very high level of aut...  \n",
       "3  We adopt Distribution Field DF layer as feature instead of traditional Haar like one to robustly model the target. We derive an online weighted geometric mean MIL classifier to select the most dis...  \n",
       "4  A system that constructs multi instance bags from text based retrieval order. Ensemble of MI classifiers is learned using these multi instance bags. We report image re ranking performance on multi...  "
      ]
     },
     "execution_count": 7,
     "metadata": {},
     "output_type": "execute_result"
    }
   ],
   "source": [
    "data = data[['Abstract','RHS']]\n",
    "data.head()"
   ]
  },
  {
   "cell_type": "code",
   "execution_count": 8,
   "id": "d2a03298",
   "metadata": {},
   "outputs": [
    {
     "data": {
      "text/plain": [
       "Abstract    0\n",
       "dtype: int64"
      ]
     },
     "execution_count": 8,
     "metadata": {},
     "output_type": "execute_result"
    }
   ],
   "source": [
    "data[['Abstract']].isnull().sum()"
   ]
  },
  {
   "cell_type": "code",
   "execution_count": 9,
   "id": "df787626",
   "metadata": {},
   "outputs": [
    {
     "data": {
      "text/plain": [
       "RHS    0\n",
       "dtype: int64"
      ]
     },
     "execution_count": 9,
     "metadata": {},
     "output_type": "execute_result"
    }
   ],
   "source": [
    "data[['RHS']].isnull().sum()"
   ]
  },
  {
   "cell_type": "code",
   "execution_count": 10,
   "id": "46ad1bc2",
   "metadata": {},
   "outputs": [
    {
     "data": {
      "text/plain": [
       "Abstract    0\n",
       "dtype: int64"
      ]
     },
     "execution_count": 10,
     "metadata": {},
     "output_type": "execute_result"
    }
   ],
   "source": [
    "data[['Abstract']].isna().sum()"
   ]
  },
  {
   "cell_type": "code",
   "execution_count": 11,
   "id": "71a24ae0",
   "metadata": {},
   "outputs": [
    {
     "data": {
      "text/plain": [
       "RHS    0\n",
       "dtype: int64"
      ]
     },
     "execution_count": 11,
     "metadata": {},
     "output_type": "execute_result"
    }
   ],
   "source": [
    "data[['RHS']].isna().sum()"
   ]
  },
  {
   "cell_type": "code",
   "execution_count": 12,
   "id": "e3207f97",
   "metadata": {},
   "outputs": [
    {
     "data": {
      "text/plain": [
       "2"
      ]
     },
     "execution_count": 12,
     "metadata": {},
     "output_type": "execute_result"
    }
   ],
   "source": [
    "data[['Abstract']].duplicated().sum()"
   ]
  },
  {
   "cell_type": "code",
   "execution_count": 13,
   "id": "218b4cc0",
   "metadata": {},
   "outputs": [
    {
     "data": {
      "text/plain": [
       "1"
      ]
     },
     "execution_count": 13,
     "metadata": {},
     "output_type": "execute_result"
    }
   ],
   "source": [
    "data[['RHS']].duplicated().sum()"
   ]
  },
  {
   "cell_type": "code",
   "execution_count": 14,
   "id": "02df04d9",
   "metadata": {},
   "outputs": [],
   "source": [
    "# data[['Abstract']].drop_duplicates(inplace = True)"
   ]
  },
  {
   "cell_type": "code",
   "execution_count": 15,
   "id": "31da66c7",
   "metadata": {},
   "outputs": [],
   "source": [
    "data.drop_duplicates(inplace = True)"
   ]
  },
  {
   "cell_type": "code",
   "execution_count": 16,
   "id": "88bf1e45",
   "metadata": {},
   "outputs": [
    {
     "data": {
      "text/plain": [
       "0"
      ]
     },
     "execution_count": 16,
     "metadata": {},
     "output_type": "execute_result"
    }
   ],
   "source": [
    "data[['RHS']].duplicated().sum()"
   ]
  },
  {
   "cell_type": "code",
   "execution_count": 17,
   "id": "8a9650df",
   "metadata": {},
   "outputs": [
    {
     "data": {
      "text/plain": [
       "1"
      ]
     },
     "execution_count": 17,
     "metadata": {},
     "output_type": "execute_result"
    }
   ],
   "source": [
    "data[['Abstract']].duplicated().sum()"
   ]
  },
  {
   "cell_type": "code",
   "execution_count": 18,
   "id": "7574686e",
   "metadata": {},
   "outputs": [],
   "source": [
    "contraction_mapping = {\"ain't\": \"is not\", \"aren't\": \"are not\",\"can't\": \"cannot\", \"'cause\": \"because\", \"could've\": \"could have\", \"couldn't\": \"could not\",\n",
    "\n",
    "                           \"didn't\": \"did not\", \"doesn't\": \"does not\", \"don't\": \"do not\", \"hadn't\": \"had not\", \"hasn't\": \"has not\", \"haven't\": \"have not\",\n",
    "\n",
    "                           \"he'd\": \"he would\",\"he'll\": \"he will\", \"he's\": \"he is\", \"how'd\": \"how did\", \"how'd'y\": \"how do you\", \"how'll\": \"how will\", \"how's\": \"how is\",\n",
    "\n",
    "                           \"I'd\": \"I would\", \"I'd've\": \"I would have\", \"I'll\": \"I will\", \"I'll've\": \"I will have\",\"I'm\": \"I am\", \"I've\": \"I have\", \"i'd\": \"i would\",\n",
    "\n",
    "                           \"i'd've\": \"i would have\", \"i'll\": \"i will\",  \"i'll've\": \"i will have\",\"i'm\": \"i am\", \"i've\": \"i have\", \"isn't\": \"is not\", \"it'd\": \"it would\",\n",
    "\n",
    "                           \"it'd've\": \"it would have\", \"it'll\": \"it will\", \"it'll've\": \"it will have\",\"it's\": \"it is\", \"let's\": \"let us\", \"ma'am\": \"madam\",\n",
    "\n",
    "                           \"mayn't\": \"may not\", \"might've\": \"might have\",\"mightn't\": \"might not\",\"mightn't've\": \"might not have\", \"must've\": \"must have\",\n",
    "\n",
    "                           \"mustn't\": \"must not\", \"mustn't've\": \"must not have\", \"needn't\": \"need not\", \"needn't've\": \"need not have\",\"o'clock\": \"of the clock\",\n",
    "\n",
    "                           \"oughtn't\": \"ought not\", \"oughtn't've\": \"ought not have\", \"shan't\": \"shall not\", \"sha'n't\": \"shall not\", \"shan't've\": \"shall not have\",\n",
    "\n",
    "                           \"she'd\": \"she would\", \"she'd've\": \"she would have\", \"she'll\": \"she will\", \"she'll've\": \"she will have\", \"she's\": \"she is\",\n",
    "\n",
    "                           \"should've\": \"should have\", \"shouldn't\": \"should not\", \"shouldn't've\": \"should not have\", \"so've\": \"so have\",\"so's\": \"so as\",\n",
    "\n",
    "                           \"this's\": \"this is\",\"that'd\": \"that would\", \"that'd've\": \"that would have\", \"that's\": \"that is\", \"there'd\": \"there would\",\n",
    "\n",
    "                           \"there'd've\": \"there would have\", \"there's\": \"there is\", \"here's\": \"here is\",\"they'd\": \"they would\", \"they'd've\": \"they would have\",\n",
    "\n",
    "                           \"they'll\": \"they will\", \"they'll've\": \"they will have\", \"they're\": \"they are\", \"they've\": \"they have\", \"to've\": \"to have\",\n",
    "\n",
    "                           \"wasn't\": \"was not\", \"we'd\": \"we would\", \"we'd've\": \"we would have\", \"we'll\": \"we will\", \"we'll've\": \"we will have\", \"we're\": \"we are\",\n",
    "\n",
    "                           \"we've\": \"we have\", \"weren't\": \"were not\", \"what'll\": \"what will\", \"what'll've\": \"what will have\", \"what're\": \"what are\",\n",
    "\n",
    "                           \"what's\": \"what is\", \"what've\": \"what have\", \"when's\": \"when is\", \"when've\": \"when have\", \"where'd\": \"where did\", \"where's\": \"where is\",\n",
    "\n",
    "                           \"where've\": \"where have\", \"who'll\": \"who will\", \"who'll've\": \"who will have\", \"who's\": \"who is\", \"who've\": \"who have\",\n",
    "\n",
    "                           \"why's\": \"why is\", \"why've\": \"why have\", \"will've\": \"will have\", \"won't\": \"will not\", \"won't've\": \"will not have\",\n",
    "\n",
    "                           \"would've\": \"would have\", \"wouldn't\": \"would not\", \"wouldn't've\": \"would not have\", \"y'all\": \"you all\",\n",
    "\n",
    "                           \"y'all'd\": \"you all would\",\"y'all'd've\": \"you all would have\",\"y'all're\": \"you all are\",\"y'all've\": \"you all have\",\n",
    "\n",
    "                           \"you'd\": \"you would\", \"you'd've\": \"you would have\", \"you'll\": \"you will\", \"you'll've\": \"you will have\",\n",
    "\n",
    "                           \"you're\": \"you are\", \"you've\": \"you have\"}"
   ]
  },
  {
   "cell_type": "code",
   "execution_count": 19,
   "id": "aecf4051",
   "metadata": {},
   "outputs": [],
   "source": [
    "stop_words = set(stopwords.words('english')) \n",
    "def text_cleaner(text):\n",
    "    newString = text.lower()\n",
    "    newString = BeautifulSoup(newString, \"lxml\").text\n",
    "    newString = re.sub(r'\\([^)]*\\)', '', newString)\n",
    "    newString = re.sub('\"','', newString)\n",
    "    newString = ' '.join([contraction_mapping[t] if t in contraction_mapping else t for t in newString.split(\" \")])    \n",
    "    newString = re.sub(r\"'s\\b\",\"\",newString)\n",
    "    newString = re.sub(\"[^a-zA-Z]\", \" \", newString) \n",
    "    tokens = [w for w in newString.split() if not w in stop_words]\n",
    "    long_words=[]\n",
    "    for i in tokens:\n",
    "        if len(i)>=3:                  #removing short word\n",
    "            long_words.append(i)   \n",
    "    return (\" \".join(long_words)).strip()\n",
    "\n",
    "# cleaned_text = []\n",
    "# for t in data['Abstract']:\n",
    "#     cleaned_text.append(text_cleaner(t))"
   ]
  },
  {
   "cell_type": "code",
   "execution_count": 20,
   "id": "9fee9243",
   "metadata": {},
   "outputs": [],
   "source": [
    "data['Abstract_cleaned'] = data['Abstract'].apply(text_cleaner)"
   ]
  },
  {
   "cell_type": "code",
   "execution_count": 21,
   "id": "317febc2",
   "metadata": {},
   "outputs": [],
   "source": [
    "data1['Abstract_cleaned'] = data1['Abstract'].apply(text_cleaner)\n"
   ]
  },
  {
   "cell_type": "code",
   "execution_count": 22,
   "id": "5cfa9022",
   "metadata": {},
   "outputs": [
    {
     "data": {
      "text/html": [
       "<div>\n",
       "<style scoped>\n",
       "    .dataframe tbody tr th:only-of-type {\n",
       "        vertical-align: middle;\n",
       "    }\n",
       "\n",
       "    .dataframe tbody tr th {\n",
       "        vertical-align: top;\n",
       "    }\n",
       "\n",
       "    .dataframe thead th {\n",
       "        text-align: right;\n",
       "    }\n",
       "</style>\n",
       "<table border=\"1\" class=\"dataframe\">\n",
       "  <thead>\n",
       "    <tr style=\"text-align: right;\">\n",
       "      <th></th>\n",
       "      <th>Abstract</th>\n",
       "      <th>RHS</th>\n",
       "      <th>Abstract_cleaned</th>\n",
       "    </tr>\n",
       "  </thead>\n",
       "  <tbody>\n",
       "    <tr>\n",
       "      <th>0</th>\n",
       "      <td>This paper introduces four classes of rotation invariant orthogonal moments by generalizing four existing moments that use harmonic functions in their radial kernels . Members of these classes sh...</td>\n",
       "      <td>We generalize polar harmonic transforms for pattern description recognition. The generalization maintains beneficial properties of existing transforms. The completeness of the corresponding basis ...</td>\n",
       "      <td>paper introduces four classes rotation invariant orthogonal moments generalizing four existing moments use harmonic functions radial kernels members classes share beneficial properties image repre...</td>\n",
       "    </tr>\n",
       "    <tr>\n",
       "      <th>1</th>\n",
       "      <td>In this paper a MATLAB based graphical user interface software tool for general biomedical signal processing and analysis of functional neuroimaging data is introduced . Specifically electroencep...</td>\n",
       "      <td>Design of a MATLAB based GUI tool for general biomedical signal processing and analysis. EEG and ECG signals can be processed and analyzed by the designed tool. The easy to use and easy to learn i...</td>\n",
       "      <td>paper matlab based graphical user interface software tool general biomedical signal processing analysis functional neuroimaging data introduced specifically electroencephalography electrocardiogra...</td>\n",
       "    </tr>\n",
       "    <tr>\n",
       "      <th>2</th>\n",
       "      <td>Background and objective A markerless low cost prototype has been developed for the determination of some spatio temporal parameters of human gait step length step width and cadence have been con...</td>\n",
       "      <td>A markerless low cost system for the estimation of some spatial temporal parameters of human gait. A system usable on not instrumented treadmill. A system characterized by a very high level of aut...</td>\n",
       "      <td>background objective markerless low cost prototype developed determination spatio temporal parameters human gait step length step width cadence considered smartphone high definition webcam used me...</td>\n",
       "    </tr>\n",
       "    <tr>\n",
       "      <th>3</th>\n",
       "      <td>This paper presents an improved multiple instance learning tracker representing target with Distribution Fields and building a weighted geometric mean MIL classifier . Firstly we adopt DF layer a...</td>\n",
       "      <td>We adopt Distribution Field DF layer as feature instead of traditional Haar like one to robustly model the target. We derive an online weighted geometric mean MIL classifier to select the most dis...</td>\n",
       "      <td>paper presents improved multiple instance learning tracker representing target distribution fields building weighted geometric mean mil classifier firstly adopt layer feature instead traditional h...</td>\n",
       "    </tr>\n",
       "    <tr>\n",
       "      <th>4</th>\n",
       "      <td>Text based image retrieval may perform poorly due to the irrelevant and or incomplete text surrounding the images in the web pages . In such situations visual content of the images can be leverag...</td>\n",
       "      <td>A system that constructs multi instance bags from text based retrieval order. Ensemble of MI classifiers is learned using these multi instance bags. We report image re ranking performance on multi...</td>\n",
       "      <td>text based image retrieval may perform poorly due irrelevant incomplete text surrounding images web pages situations visual content images leveraged improve image ranking performance paper look pr...</td>\n",
       "    </tr>\n",
       "  </tbody>\n",
       "</table>\n",
       "</div>"
      ],
      "text/plain": [
       "                                                                                                                                                                                                  Abstract  \\\n",
       "0   This paper introduces four classes of rotation invariant orthogonal moments by generalizing four existing moments that use harmonic functions in their radial kernels . Members of these classes sh...   \n",
       "1   In this paper a MATLAB based graphical user interface software tool for general biomedical signal processing and analysis of functional neuroimaging data is introduced . Specifically electroencep...   \n",
       "2   Background and objective A markerless low cost prototype has been developed for the determination of some spatio temporal parameters of human gait step length step width and cadence have been con...   \n",
       "3   This paper presents an improved multiple instance learning tracker representing target with Distribution Fields and building a weighted geometric mean MIL classifier . Firstly we adopt DF layer a...   \n",
       "4   Text based image retrieval may perform poorly due to the irrelevant and or incomplete text surrounding the images in the web pages . In such situations visual content of the images can be leverag...   \n",
       "\n",
       "                                                                                                                                                                                                       RHS  \\\n",
       "0  We generalize polar harmonic transforms for pattern description recognition. The generalization maintains beneficial properties of existing transforms. The completeness of the corresponding basis ...   \n",
       "1  Design of a MATLAB based GUI tool for general biomedical signal processing and analysis. EEG and ECG signals can be processed and analyzed by the designed tool. The easy to use and easy to learn i...   \n",
       "2  A markerless low cost system for the estimation of some spatial temporal parameters of human gait. A system usable on not instrumented treadmill. A system characterized by a very high level of aut...   \n",
       "3  We adopt Distribution Field DF layer as feature instead of traditional Haar like one to robustly model the target. We derive an online weighted geometric mean MIL classifier to select the most dis...   \n",
       "4  A system that constructs multi instance bags from text based retrieval order. Ensemble of MI classifiers is learned using these multi instance bags. We report image re ranking performance on multi...   \n",
       "\n",
       "                                                                                                                                                                                          Abstract_cleaned  \n",
       "0  paper introduces four classes rotation invariant orthogonal moments generalizing four existing moments use harmonic functions radial kernels members classes share beneficial properties image repre...  \n",
       "1  paper matlab based graphical user interface software tool general biomedical signal processing analysis functional neuroimaging data introduced specifically electroencephalography electrocardiogra...  \n",
       "2  background objective markerless low cost prototype developed determination spatio temporal parameters human gait step length step width cadence considered smartphone high definition webcam used me...  \n",
       "3  paper presents improved multiple instance learning tracker representing target distribution fields building weighted geometric mean mil classifier firstly adopt layer feature instead traditional h...  \n",
       "4  text based image retrieval may perform poorly due irrelevant incomplete text surrounding images web pages situations visual content images leveraged improve image ranking performance paper look pr...  "
      ]
     },
     "execution_count": 22,
     "metadata": {},
     "output_type": "execute_result"
    }
   ],
   "source": [
    "# data.drop([['cleantext']],inplace = True)\n",
    "# data.head()\n",
    "data = data[['Abstract','RHS','Abstract_cleaned']]\n",
    "data.head()"
   ]
  },
  {
   "cell_type": "code",
   "execution_count": 23,
   "id": "b0bc621a",
   "metadata": {},
   "outputs": [],
   "source": [
    "def summary_cleaner(text):\n",
    "    newString = re.sub('\"','', text)\n",
    "    newString = ' '.join([contraction_mapping[t] if t in contraction_mapping else t for t in newString.split(\" \")])    \n",
    "    newString = re.sub(r\"'s\\b\",\"\",newString)\n",
    "    newString = re.sub(\"[^a-zA-Z]\", \" \", newString)\n",
    "    newString = newString.lower()\n",
    "    tokens=newString.split()\n",
    "    newString=''\n",
    "    for i in tokens:\n",
    "        if len(i)>1:                                 \n",
    "            newString=newString+i+' '  \n",
    "    return newString\n"
   ]
  },
  {
   "cell_type": "code",
   "execution_count": 24,
   "id": "537bda1a",
   "metadata": {},
   "outputs": [],
   "source": [
    "data['RHS_cleaned'] = data['RHS'].apply(summary_cleaner)\n",
    "data1['RHS_cleaned'] = data1['RHS'].apply(text_cleaner)\n",
    "data1['RHS_cleaned'] = data1['RHS_cleaned'].apply(lambda x : '_START_ '+ x + ' _END_')"
   ]
  },
  {
   "cell_type": "code",
   "execution_count": 25,
   "id": "d194834a",
   "metadata": {},
   "outputs": [
    {
     "data": {
      "text/html": [
       "<div>\n",
       "<style scoped>\n",
       "    .dataframe tbody tr th:only-of-type {\n",
       "        vertical-align: middle;\n",
       "    }\n",
       "\n",
       "    .dataframe tbody tr th {\n",
       "        vertical-align: top;\n",
       "    }\n",
       "\n",
       "    .dataframe thead th {\n",
       "        text-align: right;\n",
       "    }\n",
       "</style>\n",
       "<table border=\"1\" class=\"dataframe\">\n",
       "  <thead>\n",
       "    <tr style=\"text-align: right;\">\n",
       "      <th></th>\n",
       "      <th>Abstract</th>\n",
       "      <th>RHS</th>\n",
       "      <th>Abstract_cleaned</th>\n",
       "      <th>RHS_cleaned</th>\n",
       "    </tr>\n",
       "  </thead>\n",
       "  <tbody>\n",
       "    <tr>\n",
       "      <th>0</th>\n",
       "      <td>This paper introduces four classes of rotation invariant orthogonal moments by generalizing four existing moments that use harmonic functions in their radial kernels . Members of these classes sh...</td>\n",
       "      <td>We generalize polar harmonic transforms for pattern description recognition. The generalization maintains beneficial properties of existing transforms. The completeness of the corresponding basis ...</td>\n",
       "      <td>paper introduces four classes rotation invariant orthogonal moments generalizing four existing moments use harmonic functions radial kernels members classes share beneficial properties image repre...</td>\n",
       "      <td>we generalize polar harmonic transforms for pattern description recognition the generalization maintains beneficial properties of existing transforms the completeness of the corresponding basis se...</td>\n",
       "    </tr>\n",
       "  </tbody>\n",
       "</table>\n",
       "</div>"
      ],
      "text/plain": [
       "                                                                                                                                                                                                  Abstract  \\\n",
       "0   This paper introduces four classes of rotation invariant orthogonal moments by generalizing four existing moments that use harmonic functions in their radial kernels . Members of these classes sh...   \n",
       "\n",
       "                                                                                                                                                                                                       RHS  \\\n",
       "0  We generalize polar harmonic transforms for pattern description recognition. The generalization maintains beneficial properties of existing transforms. The completeness of the corresponding basis ...   \n",
       "\n",
       "                                                                                                                                                                                          Abstract_cleaned  \\\n",
       "0  paper introduces four classes rotation invariant orthogonal moments generalizing four existing moments use harmonic functions radial kernels members classes share beneficial properties image repre...   \n",
       "\n",
       "                                                                                                                                                                                               RHS_cleaned  \n",
       "0  we generalize polar harmonic transforms for pattern description recognition the generalization maintains beneficial properties of existing transforms the completeness of the corresponding basis se...  "
      ]
     },
     "execution_count": 25,
     "metadata": {},
     "output_type": "execute_result"
    }
   ],
   "source": [
    "data.head(1) #trianing data"
   ]
  },
  {
   "cell_type": "code",
   "execution_count": 26,
   "id": "351c14cd",
   "metadata": {},
   "outputs": [
    {
     "data": {
      "text/html": [
       "<div>\n",
       "<style scoped>\n",
       "    .dataframe tbody tr th:only-of-type {\n",
       "        vertical-align: middle;\n",
       "    }\n",
       "\n",
       "    .dataframe tbody tr th {\n",
       "        vertical-align: top;\n",
       "    }\n",
       "\n",
       "    .dataframe thead th {\n",
       "        text-align: right;\n",
       "    }\n",
       "</style>\n",
       "<table border=\"1\" class=\"dataframe\">\n",
       "  <thead>\n",
       "    <tr style=\"text-align: right;\">\n",
       "      <th></th>\n",
       "      <th>Abstract</th>\n",
       "      <th>RHS</th>\n",
       "      <th>Abstract_cleaned</th>\n",
       "      <th>RHS_cleaned</th>\n",
       "    </tr>\n",
       "  </thead>\n",
       "  <tbody>\n",
       "    <tr>\n",
       "      <th>0</th>\n",
       "      <td>Human face can be seen as a soft tissue organ complex with a large investing network of musculature . Due to its complexity most existing computational models approximate these muscular structure...</td>\n",
       "      <td>We model the deformation of the human face due to muscle contraction. 3 D muscles with anatomical geometry and fibre orientation is used. Muscle forces are represented as discrete point load at th...</td>\n",
       "      <td>human face seen soft tissue organ complex large investing network musculature due complexity existing computational models approximate muscular structures using simple geometries curves primitive ...</td>\n",
       "      <td>_START_ model deformation human face due muscle contraction muscles anatomical geometry fibre orientation used muscle forces represented discrete point load integration points increasing number em...</td>\n",
       "    </tr>\n",
       "  </tbody>\n",
       "</table>\n",
       "</div>"
      ],
      "text/plain": [
       "                                                                                                                                                                                                  Abstract  \\\n",
       "0   Human face can be seen as a soft tissue organ complex with a large investing network of musculature . Due to its complexity most existing computational models approximate these muscular structure...   \n",
       "\n",
       "                                                                                                                                                                                                       RHS  \\\n",
       "0  We model the deformation of the human face due to muscle contraction. 3 D muscles with anatomical geometry and fibre orientation is used. Muscle forces are represented as discrete point load at th...   \n",
       "\n",
       "                                                                                                                                                                                          Abstract_cleaned  \\\n",
       "0  human face seen soft tissue organ complex large investing network musculature due complexity existing computational models approximate muscular structures using simple geometries curves primitive ...   \n",
       "\n",
       "                                                                                                                                                                                               RHS_cleaned  \n",
       "0  _START_ model deformation human face due muscle contraction muscles anatomical geometry fibre orientation used muscle forces represented discrete point load integration points increasing number em...  "
      ]
     },
     "execution_count": 26,
     "metadata": {},
     "output_type": "execute_result"
    }
   ],
   "source": [
    "data1.head(1) #testing data"
   ]
  },
  {
   "cell_type": "code",
   "execution_count": 27,
   "id": "ad8c6716",
   "metadata": {},
   "outputs": [],
   "source": [
    "x_tr = data['Abstract_cleaned']\n",
    "y_tr = data['RHS_cleaned']\n",
    "x_val = data1['Abstract_cleaned']\n",
    "y_val = data1['RHS_cleaned']\n",
    "    "
   ]
  },
  {
   "cell_type": "code",
   "execution_count": 28,
   "id": "67ab46fe",
   "metadata": {},
   "outputs": [],
   "source": [
    "max_len_text=80\n",
    "max_len_summary = 10\n",
    "x_tokenizer = Tokenizer()\n",
    "x_tokenizer.fit_on_texts(list(x_tr))\n",
    "\n",
    "#convert text sequences into integer sequences\n",
    "x_tr    =   x_tokenizer.texts_to_sequences(x_tr) \n",
    "x_val   =   x_tokenizer.texts_to_sequences(x_val)\n",
    "\n",
    "#padding zero upto maximum length\n",
    "x_tr    =   pad_sequences(x_tr,  maxlen=max_len_text, padding='post') \n",
    "x_val   =   pad_sequences(x_val, maxlen=max_len_text, padding='post')\n",
    "\n",
    "x_voc_size   =  len(x_tokenizer.word_index) +1"
   ]
  },
  {
   "cell_type": "code",
   "execution_count": 29,
   "id": "421bf3e3",
   "metadata": {},
   "outputs": [],
   "source": [
    "#preparing a tokenizer for summary on training data \n",
    "y_tokenizer = Tokenizer()\n",
    "y_tokenizer.fit_on_texts(list(y_tr))\n",
    "\n",
    "#convert summary sequences into integer sequences\n",
    "y_tr    =   y_tokenizer.texts_to_sequences(y_tr) \n",
    "y_val   =   y_tokenizer.texts_to_sequences(y_val) \n",
    "\n",
    "#padding zero upto maximum length\n",
    "y_tr    =   pad_sequences(y_tr, maxlen=max_len_summary, padding='post')\n",
    "y_val   =   pad_sequences(y_val, maxlen=max_len_summary, padding='post')\n",
    "\n",
    "y_voc_size  =   len(y_tokenizer.word_index) +1"
   ]
  },
  {
   "cell_type": "code",
   "execution_count": 30,
   "id": "d13fb76a",
   "metadata": {},
   "outputs": [
    {
     "name": "stdout",
     "output_type": "stream",
     "text": [
      "Model: \"model\"\n",
      "__________________________________________________________________________________________________\n",
      " Layer (type)                   Output Shape         Param #     Connected to                     \n",
      "==================================================================================================\n",
      " input_1 (InputLayer)           [(None, 80)]         0           []                               \n",
      "                                                                                                  \n",
      " embedding (Embedding)          (None, 80, 500)      7714000     ['input_1[0][0]']                \n",
      "                                                                                                  \n",
      " input_2 (InputLayer)           [(None, None)]       0           []                               \n",
      "                                                                                                  \n",
      " lstm (LSTM)                    [(None, 80, 500),    2002000     ['embedding[0][0]']              \n",
      "                                 (None, 500),                                                     \n",
      "                                 (None, 500)]                                                     \n",
      "                                                                                                  \n",
      " embedding_1 (Embedding)        (None, None, 500)    5025000     ['input_2[0][0]']                \n",
      "                                                                                                  \n",
      " lstm_1 (LSTM)                  [(None, 80, 500),    2002000     ['lstm[0][0]']                   \n",
      "                                 (None, 500),                                                     \n",
      "                                 (None, 500)]                                                     \n",
      "                                                                                                  \n",
      " lstm_2 (LSTM)                  [(None, None, 500),  2002000     ['embedding_1[0][0]',            \n",
      "                                 (None, 500),                     'lstm_1[0][1]',                 \n",
      "                                 (None, 500)]                     'lstm_1[0][2]']                 \n",
      "                                                                                                  \n",
      " attention_layer (AttentionLaye  ((None, None, 500),  500500     ['lstm_1[0][0]',                 \n",
      " r)                              (None, None, 80))                'lstm_2[0][0]']                 \n",
      "                                                                                                  \n",
      " concat_layer (Concatenate)     (None, None, 1000)   0           ['lstm_2[0][0]',                 \n",
      "                                                                  'attention_layer[0][0]']        \n",
      "                                                                                                  \n",
      " time_distributed (TimeDistribu  (None, None, 10050)  10060050   ['concat_layer[0][0]']           \n",
      " ted)                                                                                             \n",
      "                                                                                                  \n",
      "==================================================================================================\n",
      "Total params: 29,305,550\n",
      "Trainable params: 29,305,550\n",
      "Non-trainable params: 0\n",
      "__________________________________________________________________________________________________\n"
     ]
    }
   ],
   "source": [
    "from keras import backend as K \n",
    "K.clear_session() \n",
    "latent_dim = 500 \n",
    "\n",
    "# Encoder \n",
    "encoder_inputs = Input(shape=(max_len_text,)) \n",
    "enc_emb = Embedding(x_voc_size, latent_dim,trainable=True)(encoder_inputs) \n",
    "#LSTM 1 \n",
    "encoder_lstm1 = LSTM(latent_dim,return_sequences=True,return_state=True) \n",
    "encoder_output1, state_h1, state_c1 = encoder_lstm1(enc_emb) \n",
    "#LSTM 2 \n",
    "encoder_lstm2 = LSTM(latent_dim,return_sequences=True,return_state=True) \n",
    "encoder_outputs, state_h, state_c = encoder_lstm2(encoder_output1) \n",
    "\n",
    "#LSTM 3 \n",
    "# encoder_lstm3=LSTM(latent_dim, return_state=True, return_sequences=True) \n",
    "# encoder_outputs, state_h, state_c= encoder_lstm3(encoder_output2) \n",
    "\n",
    "# Set up the decoder. \n",
    "decoder_inputs = Input(shape=(None,)) \n",
    "dec_emb_layer = Embedding(y_voc_size, latent_dim,trainable=True) \n",
    "dec_emb = dec_emb_layer(decoder_inputs) \n",
    "\n",
    "#LSTM using encoder_states as initial state\n",
    "decoder_lstm = LSTM(latent_dim, return_sequences=True, return_state=True) \n",
    "decoder_outputs,decoder_fwd_state, decoder_back_state = decoder_lstm(dec_emb,initial_state=[state_h, state_c]) \n",
    "\n",
    "#Attention Layer\n",
    "attn_layer = AttentionLayer(name='attention_layer') \n",
    "attn_out, attn_states = attn_layer([encoder_outputs, decoder_outputs]) \n",
    "\n",
    "# Concat attention output and decoder LSTM output \n",
    "decoder_concat_input = Concatenate(axis=-1, name='concat_layer')([decoder_outputs, attn_out])\n",
    "\n",
    "#Dense layer\n",
    "decoder_dense = TimeDistributed(Dense(y_voc_size, activation='softmax')) \n",
    "decoder_outputs = decoder_dense(decoder_concat_input) \n",
    "\n",
    "# Define the model\n",
    "model = Model([encoder_inputs, decoder_inputs], decoder_outputs) \n",
    "model.summary()"
   ]
  },
  {
   "cell_type": "code",
   "execution_count": 31,
   "id": "3b41a288",
   "metadata": {},
   "outputs": [],
   "source": [
    "model.compile(optimizer='rmsprop', loss='sparse_categorical_crossentropy')"
   ]
  },
  {
   "cell_type": "code",
   "execution_count": 32,
   "id": "7f9bd4fd",
   "metadata": {},
   "outputs": [],
   "source": [
    "es = EarlyStopping(monitor='val_loss', mode='min', verbose=1,patience = 50)"
   ]
  },
  {
   "cell_type": "code",
   "execution_count": null,
   "id": "2e9604ae",
   "metadata": {},
   "outputs": [
    {
     "name": "stdout",
     "output_type": "stream",
     "text": [
      "Epoch 1/10\n",
      "10/10 [==============================] - 157s 15s/step - loss: 7.9172 - val_loss: 8.3326\n",
      "Epoch 2/10\n",
      "10/10 [==============================] - 154s 15s/step - loss: 7.0044 - val_loss: 8.2844\n",
      "Epoch 3/10\n",
      "10/10 [==============================] - 165s 17s/step - loss: 6.8828 - val_loss: 8.4548\n",
      "Epoch 4/10\n",
      "10/10 [==============================] - 147s 15s/step - loss: 6.7821 - val_loss: 8.6772\n",
      "Epoch 5/10\n",
      "10/10 [==============================] - 145s 15s/step - loss: 6.6314 - val_loss: 8.7352\n",
      "Epoch 6/10\n",
      "10/10 [==============================] - 148s 15s/step - loss: 6.4884 - val_loss: 8.9393\n",
      "Epoch 7/10\n",
      "10/10 [==============================] - 149s 15s/step - loss: 6.3486 - val_loss: 9.1475\n",
      "Epoch 8/10\n",
      "10/10 [==============================] - 150s 15s/step - loss: 6.1974 - val_loss: 9.2698\n",
      "Epoch 9/10\n",
      "10/10 [==============================] - 150s 15s/step - loss: 6.0352 - val_loss: 9.3353\n",
      "Epoch 10/10\n",
      " 9/10 [==========================>...] - ETA: 14s - loss: 5.9229"
     ]
    }
   ],
   "source": [
    "history=model.fit([x_tr,y_tr[:,:-1]], y_tr.reshape(y_tr.shape[0],y_tr.shape[1], 1)[:,1:] ,epochs=10,callbacks=[es],batch_size=200, validation_data=([x_val,y_val[:,:-1]], y_val.reshape(y_val.shape[0],y_val.shape[1], 1)[:,1:]))"
   ]
  },
  {
   "cell_type": "code",
   "execution_count": null,
   "id": "f67de1f8",
   "metadata": {},
   "outputs": [],
   "source": [
    "from matplotlib import pyplot \n",
    "pyplot.plot(history.history['loss'], label='train') \n",
    "pyplot.plot(history.history['val_loss'], label='test') \n",
    "pyplot.legend() \n",
    "pyplot.show()"
   ]
  },
  {
   "cell_type": "code",
   "execution_count": null,
   "id": "69ec9f1f",
   "metadata": {},
   "outputs": [],
   "source": [
    "reverse_target_word_index=y_tokenizer.index_word \n",
    "reverse_source_word_index=x_tokenizer.index_word \n",
    "target_word_index=y_tokenizer.word_index"
   ]
  },
  {
   "cell_type": "code",
   "execution_count": null,
   "id": "b9973d12",
   "metadata": {},
   "outputs": [],
   "source": [
    "# encoder inference\n",
    "encoder_model = Model(inputs=encoder_inputs,outputs=[encoder_outputs, state_h, state_c])\n",
    "\n",
    "# decoder inference\n",
    "# Below tensors will hold the states of the previous time step\n",
    "decoder_state_input_h = Input(shape=(latent_dim,))\n",
    "decoder_state_input_c = Input(shape=(latent_dim,))\n",
    "decoder_hidden_state_input = Input(shape=(max_len_text,latent_dim))\n",
    "\n",
    "# Get the embeddings of the decoder sequence\n",
    "dec_emb2= dec_emb_layer(decoder_inputs)\n",
    "\n",
    "# To predict the next word in the sequence, set the initial states to the states from the previous time step\n",
    "decoder_outputs2, state_h2, state_c2 = decoder_lstm(dec_emb2, initial_state=[decoder_state_input_h, decoder_state_input_c])\n",
    "\n",
    "#attention inference\n",
    "attn_out_inf, attn_states_inf = attn_layer([decoder_hidden_state_input, decoder_outputs2])\n",
    "decoder_inf_concat = Concatenate(axis=-1, name='concat')([decoder_outputs2, attn_out_inf])\n",
    "\n",
    "# A dense softmax layer to generate prob dist. over the target vocabulary\n",
    "decoder_outputs2 = decoder_dense(decoder_inf_concat)\n",
    "\n",
    "# Final decoder model\n",
    "decoder_model = Model(\n",
    "[decoder_inputs] + [decoder_hidden_state_input,decoder_state_input_h, decoder_state_input_c],\n",
    "[decoder_outputs2] + [state_h2, state_c2])"
   ]
  },
  {
   "cell_type": "code",
   "execution_count": null,
   "id": "d2cff1a6",
   "metadata": {},
   "outputs": [],
   "source": [
    "def decode_sequence(input_seq):\n",
    "    # Encode the input as state vectors.\n",
    "    e_out, e_h, e_c = encoder_model.predict(input_seq)\n",
    "\n",
    "    # Generate empty target sequence of length 1.\n",
    "    target_seq = np.zeros((1,1))\n",
    "\n",
    "    # Chose the 'start' word as the first word of the target sequence\n",
    "    target_seq[0, 0] = target_word_index['start']\n",
    "\n",
    "    stop_condition = False\n",
    "    decoded_sentence = ''\n",
    "    while not stop_condition:\n",
    "        output_tokens, h, c = decoder_model.predict([target_seq] + [e_out, e_h, e_c])\n",
    "\n",
    "        # Sample a token\n",
    "        sampled_token_index = np.argmax(output_tokens[0, -1, :])\n",
    "        sampled_token = reverse_target_word_index[sampled_token_index]\n",
    "\n",
    "        if(sampled_token!='end'):\n",
    "            decoded_sentence += ' '+sampled_token\n",
    "\n",
    "            # Exit condition: either hit max length or find stop word.\n",
    "            if (sampled_token == 'end' or len(decoded_sentence.split()) >= (max_len_summary-1)):\n",
    "                stop_condition = True\n",
    "\n",
    "        # Update the target sequence (of length 1).\n",
    "        target_seq = np.zeros((1,1))\n",
    "        target_seq[0, 0] = sampled_token_index\n",
    "\n",
    "        # Update internal states\n",
    "        e_h, e_c = h, c\n",
    "\n",
    "    return decoded_sentence"
   ]
  },
  {
   "cell_type": "code",
   "execution_count": null,
   "id": "cb1fc751",
   "metadata": {},
   "outputs": [],
   "source": [
    "def seq2summary(input_seq):\n",
    "    newString=''\n",
    "    for i in input_seq:\n",
    "      if((i!=0 and i!=target_word_index['start']) and i!=target_word_index['end']):\n",
    "        newString=newString+reverse_target_word_index[i]+' '\n",
    "    return newString\n",
    "\n",
    "def seq2text(input_seq):\n",
    "    newString=''\n",
    "    for i in input_seq:\n",
    "      if(i!=0):\n",
    "        newString=newString+reverse_source_word_index[i]+' '\n",
    "    return newString"
   ]
  },
  {
   "cell_type": "code",
   "execution_count": null,
   "id": "dd865076",
   "metadata": {},
   "outputs": [],
   "source": [
    "# for i in range(len(x_val)):\n",
    "#   print(\"Review:\",seq2text(x_val[i]))\n",
    "#   print(\"Original summary:\",seq2summary(y_val[i]))\n",
    "#   print(\"Predicted summary:\",decode_sequence(x_val[i].reshape(1,max_len_text)))\n",
    "#   print(\"\\n\")"
   ]
  },
  {
   "cell_type": "code",
   "execution_count": null,
   "id": "bc73e10e",
   "metadata": {},
   "outputs": [],
   "source": []
  }
 ],
 "metadata": {
  "kernelspec": {
   "display_name": "Python 3 (ipykernel)",
   "language": "python",
   "name": "python3"
  },
  "language_info": {
   "codemirror_mode": {
    "name": "ipython",
    "version": 3
   },
   "file_extension": ".py",
   "mimetype": "text/x-python",
   "name": "python",
   "nbconvert_exporter": "python",
   "pygments_lexer": "ipython3",
   "version": "3.10.0"
  }
 },
 "nbformat": 4,
 "nbformat_minor": 5
}
