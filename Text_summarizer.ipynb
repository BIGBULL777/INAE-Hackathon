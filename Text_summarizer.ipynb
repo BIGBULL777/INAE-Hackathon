{
  "cells": [
    {
      "cell_type": "markdown",
      "metadata": {
        "id": "view-in-github",
        "colab_type": "text"
      },
      "source": [
        "<a href=\"https://colab.research.google.com/github/BIGBULL777/INAE-Hackathon/blob/main/Text_summarizer.ipynb\" target=\"_parent\"><img src=\"https://colab.research.google.com/assets/colab-badge.svg\" alt=\"Open In Colab\"/></a>"
      ]
    },
    {
      "cell_type": "code",
      "source": [
        "from google.colab import drive\n",
        "drive.mount('/content/drive')"
      ],
      "metadata": {
        "colab": {
          "base_uri": "https://localhost:8080/"
        },
        "id": "rvCCT3TpFZW5",
        "outputId": "c70e55c2-0fb2-4cbd-94fb-4c4035e3e783"
      },
      "id": "rvCCT3TpFZW5",
      "execution_count": null,
      "outputs": [
        {
          "output_type": "stream",
          "name": "stdout",
          "text": [
            "Drive already mounted at /content/drive; to attempt to forcibly remount, call drive.mount(\"/content/drive\", force_remount=True).\n"
          ]
        }
      ]
    },
    {
      "cell_type": "code",
      "execution_count": null,
      "id": "e13de1bd",
      "metadata": {
        "id": "e13de1bd"
      },
      "outputs": [],
      "source": [
        "from attention import AttentionLayer"
      ]
    },
    {
      "cell_type": "code",
      "execution_count": null,
      "id": "13c00e50",
      "metadata": {
        "id": "13c00e50"
      },
      "outputs": [],
      "source": [
        "import numpy as np  \n",
        "import pandas as pd \n",
        "import re           \n",
        "from bs4 import BeautifulSoup \n",
        "from keras.preprocessing.text import Tokenizer \n",
        "from keras_preprocessing.sequence import pad_sequences\n",
        "from nltk.corpus import stopwords   \n",
        "from tensorflow.keras.layers import Input, LSTM, Embedding, Dense, Concatenate, TimeDistributed, Bidirectional\n",
        "from tensorflow.keras.models import Model\n",
        "from tensorflow.keras.callbacks import EarlyStopping\n",
        "import warnings\n",
        "pd.set_option(\"display.max_colwidth\", 200)\n",
        "warnings.filterwarnings(\"ignore\")"
      ]
    },
    {
      "cell_type": "code",
      "execution_count": null,
      "id": "00c94763",
      "metadata": {
        "colab": {
          "base_uri": "https://localhost:8080/"
        },
        "id": "00c94763",
        "outputId": "bcc26081-7946-499a-c955-01b099ed11ae"
      },
      "outputs": [
        {
          "output_type": "stream",
          "name": "stdout",
          "text": [
            "<class 'pandas.core.frame.DataFrame'>\n",
            "RangeIndex: 2000 entries, 0 to 1999\n",
            "Data columns (total 3 columns):\n",
            " #   Column    Non-Null Count  Dtype \n",
            "---  ------    --------------  ----- \n",
            " 0   FileName  2000 non-null   object\n",
            " 1   Abstract  2000 non-null   object\n",
            " 2   RHS       2000 non-null   object\n",
            "dtypes: object(3)\n",
            "memory usage: 47.0+ KB\n"
          ]
        }
      ],
      "source": [
        "data=pd.read_csv(\"train.csv\")\n",
        "data.head()\n",
        "data.info()"
      ]
    },
    {
      "cell_type": "code",
      "execution_count": null,
      "id": "0ccb403a",
      "metadata": {
        "colab": {
          "base_uri": "https://localhost:8080/",
          "height": 159
        },
        "id": "0ccb403a",
        "outputId": "ea00aed0-032c-49e3-a7c3-38e2f73109a9"
      },
      "outputs": [
        {
          "output_type": "execute_result",
          "data": {
            "text/plain": [
              "                                                                                                                                                                                                  Abstract  \\\n",
              "0   Human face can be seen as a soft tissue organ complex with a large investing network of musculature . Due to its complexity most existing computational models approximate these muscular structure...   \n",
              "\n",
              "                                                                                                                                                                                                       RHS  \n",
              "0  We model the deformation of the human face due to muscle contraction. 3 D muscles with anatomical geometry and fibre orientation is used. Muscle forces are represented as discrete point load at th...  "
            ],
            "text/html": [
              "\n",
              "  <div id=\"df-d4a86be4-0fa5-4f4e-aaab-0ea9afae4bfa\">\n",
              "    <div class=\"colab-df-container\">\n",
              "      <div>\n",
              "<style scoped>\n",
              "    .dataframe tbody tr th:only-of-type {\n",
              "        vertical-align: middle;\n",
              "    }\n",
              "\n",
              "    .dataframe tbody tr th {\n",
              "        vertical-align: top;\n",
              "    }\n",
              "\n",
              "    .dataframe thead th {\n",
              "        text-align: right;\n",
              "    }\n",
              "</style>\n",
              "<table border=\"1\" class=\"dataframe\">\n",
              "  <thead>\n",
              "    <tr style=\"text-align: right;\">\n",
              "      <th></th>\n",
              "      <th>Abstract</th>\n",
              "      <th>RHS</th>\n",
              "    </tr>\n",
              "  </thead>\n",
              "  <tbody>\n",
              "    <tr>\n",
              "      <th>0</th>\n",
              "      <td>Human face can be seen as a soft tissue organ complex with a large investing network of musculature . Due to its complexity most existing computational models approximate these muscular structure...</td>\n",
              "      <td>We model the deformation of the human face due to muscle contraction. 3 D muscles with anatomical geometry and fibre orientation is used. Muscle forces are represented as discrete point load at th...</td>\n",
              "    </tr>\n",
              "  </tbody>\n",
              "</table>\n",
              "</div>\n",
              "      <button class=\"colab-df-convert\" onclick=\"convertToInteractive('df-d4a86be4-0fa5-4f4e-aaab-0ea9afae4bfa')\"\n",
              "              title=\"Convert this dataframe to an interactive table.\"\n",
              "              style=\"display:none;\">\n",
              "        \n",
              "  <svg xmlns=\"http://www.w3.org/2000/svg\" height=\"24px\"viewBox=\"0 0 24 24\"\n",
              "       width=\"24px\">\n",
              "    <path d=\"M0 0h24v24H0V0z\" fill=\"none\"/>\n",
              "    <path d=\"M18.56 5.44l.94 2.06.94-2.06 2.06-.94-2.06-.94-.94-2.06-.94 2.06-2.06.94zm-11 1L8.5 8.5l.94-2.06 2.06-.94-2.06-.94L8.5 2.5l-.94 2.06-2.06.94zm10 10l.94 2.06.94-2.06 2.06-.94-2.06-.94-.94-2.06-.94 2.06-2.06.94z\"/><path d=\"M17.41 7.96l-1.37-1.37c-.4-.4-.92-.59-1.43-.59-.52 0-1.04.2-1.43.59L10.3 9.45l-7.72 7.72c-.78.78-.78 2.05 0 2.83L4 21.41c.39.39.9.59 1.41.59.51 0 1.02-.2 1.41-.59l7.78-7.78 2.81-2.81c.8-.78.8-2.07 0-2.86zM5.41 20L4 18.59l7.72-7.72 1.47 1.35L5.41 20z\"/>\n",
              "  </svg>\n",
              "      </button>\n",
              "      \n",
              "  <style>\n",
              "    .colab-df-container {\n",
              "      display:flex;\n",
              "      flex-wrap:wrap;\n",
              "      gap: 12px;\n",
              "    }\n",
              "\n",
              "    .colab-df-convert {\n",
              "      background-color: #E8F0FE;\n",
              "      border: none;\n",
              "      border-radius: 50%;\n",
              "      cursor: pointer;\n",
              "      display: none;\n",
              "      fill: #1967D2;\n",
              "      height: 32px;\n",
              "      padding: 0 0 0 0;\n",
              "      width: 32px;\n",
              "    }\n",
              "\n",
              "    .colab-df-convert:hover {\n",
              "      background-color: #E2EBFA;\n",
              "      box-shadow: 0px 1px 2px rgba(60, 64, 67, 0.3), 0px 1px 3px 1px rgba(60, 64, 67, 0.15);\n",
              "      fill: #174EA6;\n",
              "    }\n",
              "\n",
              "    [theme=dark] .colab-df-convert {\n",
              "      background-color: #3B4455;\n",
              "      fill: #D2E3FC;\n",
              "    }\n",
              "\n",
              "    [theme=dark] .colab-df-convert:hover {\n",
              "      background-color: #434B5C;\n",
              "      box-shadow: 0px 1px 3px 1px rgba(0, 0, 0, 0.15);\n",
              "      filter: drop-shadow(0px 1px 2px rgba(0, 0, 0, 0.3));\n",
              "      fill: #FFFFFF;\n",
              "    }\n",
              "  </style>\n",
              "\n",
              "      <script>\n",
              "        const buttonEl =\n",
              "          document.querySelector('#df-d4a86be4-0fa5-4f4e-aaab-0ea9afae4bfa button.colab-df-convert');\n",
              "        buttonEl.style.display =\n",
              "          google.colab.kernel.accessAllowed ? 'block' : 'none';\n",
              "\n",
              "        async function convertToInteractive(key) {\n",
              "          const element = document.querySelector('#df-d4a86be4-0fa5-4f4e-aaab-0ea9afae4bfa');\n",
              "          const dataTable =\n",
              "            await google.colab.kernel.invokeFunction('convertToInteractive',\n",
              "                                                     [key], {});\n",
              "          if (!dataTable) return;\n",
              "\n",
              "          const docLinkHtml = 'Like what you see? Visit the ' +\n",
              "            '<a target=\"_blank\" href=https://colab.research.google.com/notebooks/data_table.ipynb>data table notebook</a>'\n",
              "            + ' to learn more about interactive tables.';\n",
              "          element.innerHTML = '';\n",
              "          dataTable['output_type'] = 'display_data';\n",
              "          await google.colab.output.renderOutput(dataTable, element);\n",
              "          const docLink = document.createElement('div');\n",
              "          docLink.innerHTML = docLinkHtml;\n",
              "          element.appendChild(docLink);\n",
              "        }\n",
              "      </script>\n",
              "    </div>\n",
              "  </div>\n",
              "  "
            ]
          },
          "metadata": {},
          "execution_count": 151
        }
      ],
      "source": [
        "data1 = pd.read_csv('val.csv')\n",
        "data1.head(1)\n",
        "data1 = data1[['Abstract','RHS']]\n",
        "data1.head(1)"
      ]
    },
    {
      "cell_type": "code",
      "execution_count": null,
      "id": "47242da1",
      "metadata": {
        "colab": {
          "base_uri": "https://localhost:8080/"
        },
        "id": "47242da1",
        "outputId": "644b57ff-57bf-4072-e360-e8f4220d4ee0"
      },
      "outputs": [
        {
          "output_type": "execute_result",
          "data": {
            "text/plain": [
              "Abstract    0\n",
              "RHS         0\n",
              "dtype: int64"
            ]
          },
          "metadata": {},
          "execution_count": 152
        }
      ],
      "source": [
        "data1.isnull().sum()"
      ]
    },
    {
      "cell_type": "code",
      "execution_count": null,
      "id": "6537a8d9",
      "metadata": {
        "colab": {
          "base_uri": "https://localhost:8080/"
        },
        "id": "6537a8d9",
        "outputId": "dadcd261-bd7a-43b8-cc59-88b4e0239f18"
      },
      "outputs": [
        {
          "output_type": "execute_result",
          "data": {
            "text/plain": [
              "0"
            ]
          },
          "metadata": {},
          "execution_count": 153
        }
      ],
      "source": [
        "data1.duplicated().sum()"
      ]
    },
    {
      "cell_type": "code",
      "execution_count": null,
      "id": "ea744a48",
      "metadata": {
        "colab": {
          "base_uri": "https://localhost:8080/",
          "height": 424
        },
        "id": "ea744a48",
        "outputId": "6e28ab8b-80c5-4d1b-8666-64cf5509ead3"
      },
      "outputs": [
        {
          "output_type": "execute_result",
          "data": {
            "text/plain": [
              "                                                                                                                                                                                                  Abstract  \\\n",
              "0   This paper introduces four classes of rotation invariant orthogonal moments by generalizing four existing moments that use harmonic functions in their radial kernels . Members of these classes sh...   \n",
              "1   In this paper a MATLAB based graphical user interface software tool for general biomedical signal processing and analysis of functional neuroimaging data is introduced . Specifically electroencep...   \n",
              "2   Background and objective A markerless low cost prototype has been developed for the determination of some spatio temporal parameters of human gait step length step width and cadence have been con...   \n",
              "3   This paper presents an improved multiple instance learning tracker representing target with Distribution Fields and building a weighted geometric mean MIL classifier . Firstly we adopt DF layer a...   \n",
              "4   Text based image retrieval may perform poorly due to the irrelevant and or incomplete text surrounding the images in the web pages . In such situations visual content of the images can be leverag...   \n",
              "\n",
              "                                                                                                                                                                                                       RHS  \n",
              "0  We generalize polar harmonic transforms for pattern description recognition. The generalization maintains beneficial properties of existing transforms. The completeness of the corresponding basis ...  \n",
              "1  Design of a MATLAB based GUI tool for general biomedical signal processing and analysis. EEG and ECG signals can be processed and analyzed by the designed tool. The easy to use and easy to learn i...  \n",
              "2  A markerless low cost system for the estimation of some spatial temporal parameters of human gait. A system usable on not instrumented treadmill. A system characterized by a very high level of aut...  \n",
              "3  We adopt Distribution Field DF layer as feature instead of traditional Haar like one to robustly model the target. We derive an online weighted geometric mean MIL classifier to select the most dis...  \n",
              "4  A system that constructs multi instance bags from text based retrieval order. Ensemble of MI classifiers is learned using these multi instance bags. We report image re ranking performance on multi...  "
            ],
            "text/html": [
              "\n",
              "  <div id=\"df-12b51ba8-4517-4a54-b00e-44ba5dc394d2\">\n",
              "    <div class=\"colab-df-container\">\n",
              "      <div>\n",
              "<style scoped>\n",
              "    .dataframe tbody tr th:only-of-type {\n",
              "        vertical-align: middle;\n",
              "    }\n",
              "\n",
              "    .dataframe tbody tr th {\n",
              "        vertical-align: top;\n",
              "    }\n",
              "\n",
              "    .dataframe thead th {\n",
              "        text-align: right;\n",
              "    }\n",
              "</style>\n",
              "<table border=\"1\" class=\"dataframe\">\n",
              "  <thead>\n",
              "    <tr style=\"text-align: right;\">\n",
              "      <th></th>\n",
              "      <th>Abstract</th>\n",
              "      <th>RHS</th>\n",
              "    </tr>\n",
              "  </thead>\n",
              "  <tbody>\n",
              "    <tr>\n",
              "      <th>0</th>\n",
              "      <td>This paper introduces four classes of rotation invariant orthogonal moments by generalizing four existing moments that use harmonic functions in their radial kernels . Members of these classes sh...</td>\n",
              "      <td>We generalize polar harmonic transforms for pattern description recognition. The generalization maintains beneficial properties of existing transforms. The completeness of the corresponding basis ...</td>\n",
              "    </tr>\n",
              "    <tr>\n",
              "      <th>1</th>\n",
              "      <td>In this paper a MATLAB based graphical user interface software tool for general biomedical signal processing and analysis of functional neuroimaging data is introduced . Specifically electroencep...</td>\n",
              "      <td>Design of a MATLAB based GUI tool for general biomedical signal processing and analysis. EEG and ECG signals can be processed and analyzed by the designed tool. The easy to use and easy to learn i...</td>\n",
              "    </tr>\n",
              "    <tr>\n",
              "      <th>2</th>\n",
              "      <td>Background and objective A markerless low cost prototype has been developed for the determination of some spatio temporal parameters of human gait step length step width and cadence have been con...</td>\n",
              "      <td>A markerless low cost system for the estimation of some spatial temporal parameters of human gait. A system usable on not instrumented treadmill. A system characterized by a very high level of aut...</td>\n",
              "    </tr>\n",
              "    <tr>\n",
              "      <th>3</th>\n",
              "      <td>This paper presents an improved multiple instance learning tracker representing target with Distribution Fields and building a weighted geometric mean MIL classifier . Firstly we adopt DF layer a...</td>\n",
              "      <td>We adopt Distribution Field DF layer as feature instead of traditional Haar like one to robustly model the target. We derive an online weighted geometric mean MIL classifier to select the most dis...</td>\n",
              "    </tr>\n",
              "    <tr>\n",
              "      <th>4</th>\n",
              "      <td>Text based image retrieval may perform poorly due to the irrelevant and or incomplete text surrounding the images in the web pages . In such situations visual content of the images can be leverag...</td>\n",
              "      <td>A system that constructs multi instance bags from text based retrieval order. Ensemble of MI classifiers is learned using these multi instance bags. We report image re ranking performance on multi...</td>\n",
              "    </tr>\n",
              "  </tbody>\n",
              "</table>\n",
              "</div>\n",
              "      <button class=\"colab-df-convert\" onclick=\"convertToInteractive('df-12b51ba8-4517-4a54-b00e-44ba5dc394d2')\"\n",
              "              title=\"Convert this dataframe to an interactive table.\"\n",
              "              style=\"display:none;\">\n",
              "        \n",
              "  <svg xmlns=\"http://www.w3.org/2000/svg\" height=\"24px\"viewBox=\"0 0 24 24\"\n",
              "       width=\"24px\">\n",
              "    <path d=\"M0 0h24v24H0V0z\" fill=\"none\"/>\n",
              "    <path d=\"M18.56 5.44l.94 2.06.94-2.06 2.06-.94-2.06-.94-.94-2.06-.94 2.06-2.06.94zm-11 1L8.5 8.5l.94-2.06 2.06-.94-2.06-.94L8.5 2.5l-.94 2.06-2.06.94zm10 10l.94 2.06.94-2.06 2.06-.94-2.06-.94-.94-2.06-.94 2.06-2.06.94z\"/><path d=\"M17.41 7.96l-1.37-1.37c-.4-.4-.92-.59-1.43-.59-.52 0-1.04.2-1.43.59L10.3 9.45l-7.72 7.72c-.78.78-.78 2.05 0 2.83L4 21.41c.39.39.9.59 1.41.59.51 0 1.02-.2 1.41-.59l7.78-7.78 2.81-2.81c.8-.78.8-2.07 0-2.86zM5.41 20L4 18.59l7.72-7.72 1.47 1.35L5.41 20z\"/>\n",
              "  </svg>\n",
              "      </button>\n",
              "      \n",
              "  <style>\n",
              "    .colab-df-container {\n",
              "      display:flex;\n",
              "      flex-wrap:wrap;\n",
              "      gap: 12px;\n",
              "    }\n",
              "\n",
              "    .colab-df-convert {\n",
              "      background-color: #E8F0FE;\n",
              "      border: none;\n",
              "      border-radius: 50%;\n",
              "      cursor: pointer;\n",
              "      display: none;\n",
              "      fill: #1967D2;\n",
              "      height: 32px;\n",
              "      padding: 0 0 0 0;\n",
              "      width: 32px;\n",
              "    }\n",
              "\n",
              "    .colab-df-convert:hover {\n",
              "      background-color: #E2EBFA;\n",
              "      box-shadow: 0px 1px 2px rgba(60, 64, 67, 0.3), 0px 1px 3px 1px rgba(60, 64, 67, 0.15);\n",
              "      fill: #174EA6;\n",
              "    }\n",
              "\n",
              "    [theme=dark] .colab-df-convert {\n",
              "      background-color: #3B4455;\n",
              "      fill: #D2E3FC;\n",
              "    }\n",
              "\n",
              "    [theme=dark] .colab-df-convert:hover {\n",
              "      background-color: #434B5C;\n",
              "      box-shadow: 0px 1px 3px 1px rgba(0, 0, 0, 0.15);\n",
              "      filter: drop-shadow(0px 1px 2px rgba(0, 0, 0, 0.3));\n",
              "      fill: #FFFFFF;\n",
              "    }\n",
              "  </style>\n",
              "\n",
              "      <script>\n",
              "        const buttonEl =\n",
              "          document.querySelector('#df-12b51ba8-4517-4a54-b00e-44ba5dc394d2 button.colab-df-convert');\n",
              "        buttonEl.style.display =\n",
              "          google.colab.kernel.accessAllowed ? 'block' : 'none';\n",
              "\n",
              "        async function convertToInteractive(key) {\n",
              "          const element = document.querySelector('#df-12b51ba8-4517-4a54-b00e-44ba5dc394d2');\n",
              "          const dataTable =\n",
              "            await google.colab.kernel.invokeFunction('convertToInteractive',\n",
              "                                                     [key], {});\n",
              "          if (!dataTable) return;\n",
              "\n",
              "          const docLinkHtml = 'Like what you see? Visit the ' +\n",
              "            '<a target=\"_blank\" href=https://colab.research.google.com/notebooks/data_table.ipynb>data table notebook</a>'\n",
              "            + ' to learn more about interactive tables.';\n",
              "          element.innerHTML = '';\n",
              "          dataTable['output_type'] = 'display_data';\n",
              "          await google.colab.output.renderOutput(dataTable, element);\n",
              "          const docLink = document.createElement('div');\n",
              "          docLink.innerHTML = docLinkHtml;\n",
              "          element.appendChild(docLink);\n",
              "        }\n",
              "      </script>\n",
              "    </div>\n",
              "  </div>\n",
              "  "
            ]
          },
          "metadata": {},
          "execution_count": 154
        }
      ],
      "source": [
        "data = data[['Abstract','RHS']]\n",
        "data.head()"
      ]
    },
    {
      "cell_type": "code",
      "execution_count": null,
      "id": "d2a03298",
      "metadata": {
        "colab": {
          "base_uri": "https://localhost:8080/"
        },
        "id": "d2a03298",
        "outputId": "5c866e61-62f6-41fd-d9e2-67062001f6fc"
      },
      "outputs": [
        {
          "output_type": "execute_result",
          "data": {
            "text/plain": [
              "Abstract    0\n",
              "dtype: int64"
            ]
          },
          "metadata": {},
          "execution_count": 155
        }
      ],
      "source": [
        "data[['Abstract']].isnull().sum()"
      ]
    },
    {
      "cell_type": "code",
      "execution_count": null,
      "id": "df787626",
      "metadata": {
        "colab": {
          "base_uri": "https://localhost:8080/"
        },
        "id": "df787626",
        "outputId": "58e4effb-649d-493d-bbe8-555a6959b6ba"
      },
      "outputs": [
        {
          "output_type": "execute_result",
          "data": {
            "text/plain": [
              "RHS    0\n",
              "dtype: int64"
            ]
          },
          "metadata": {},
          "execution_count": 156
        }
      ],
      "source": [
        "data[['RHS']].isnull().sum()"
      ]
    },
    {
      "cell_type": "code",
      "execution_count": null,
      "id": "46ad1bc2",
      "metadata": {
        "colab": {
          "base_uri": "https://localhost:8080/"
        },
        "id": "46ad1bc2",
        "outputId": "9beaee70-e55c-4689-9d0c-b1fd236f4f89"
      },
      "outputs": [
        {
          "output_type": "execute_result",
          "data": {
            "text/plain": [
              "Abstract    0\n",
              "dtype: int64"
            ]
          },
          "metadata": {},
          "execution_count": 157
        }
      ],
      "source": [
        "data[['Abstract']].isna().sum()"
      ]
    },
    {
      "cell_type": "code",
      "execution_count": null,
      "id": "71a24ae0",
      "metadata": {
        "colab": {
          "base_uri": "https://localhost:8080/"
        },
        "id": "71a24ae0",
        "outputId": "a728cb92-8259-4cbe-e216-505bbbab36ef"
      },
      "outputs": [
        {
          "output_type": "execute_result",
          "data": {
            "text/plain": [
              "RHS    0\n",
              "dtype: int64"
            ]
          },
          "metadata": {},
          "execution_count": 158
        }
      ],
      "source": [
        "data[['RHS']].isna().sum()"
      ]
    },
    {
      "cell_type": "code",
      "execution_count": null,
      "id": "e3207f97",
      "metadata": {
        "colab": {
          "base_uri": "https://localhost:8080/"
        },
        "id": "e3207f97",
        "outputId": "10a2277e-5dae-42cc-b935-c85b2f14e7f9"
      },
      "outputs": [
        {
          "output_type": "execute_result",
          "data": {
            "text/plain": [
              "2"
            ]
          },
          "metadata": {},
          "execution_count": 159
        }
      ],
      "source": [
        "data[['Abstract']].duplicated().sum()"
      ]
    },
    {
      "cell_type": "code",
      "execution_count": null,
      "id": "218b4cc0",
      "metadata": {
        "colab": {
          "base_uri": "https://localhost:8080/"
        },
        "id": "218b4cc0",
        "outputId": "40547ce0-c423-43e3-97ee-e6e9884a7d12"
      },
      "outputs": [
        {
          "output_type": "execute_result",
          "data": {
            "text/plain": [
              "1"
            ]
          },
          "metadata": {},
          "execution_count": 160
        }
      ],
      "source": [
        "data[['RHS']].duplicated().sum()"
      ]
    },
    {
      "cell_type": "code",
      "execution_count": null,
      "id": "02df04d9",
      "metadata": {
        "id": "02df04d9"
      },
      "outputs": [],
      "source": [
        "# data[['Abstract']].drop_duplicates(inplace = True)"
      ]
    },
    {
      "cell_type": "code",
      "execution_count": null,
      "id": "31da66c7",
      "metadata": {
        "id": "31da66c7"
      },
      "outputs": [],
      "source": [
        "data.drop_duplicates(inplace = True)"
      ]
    },
    {
      "cell_type": "code",
      "execution_count": null,
      "id": "88bf1e45",
      "metadata": {
        "colab": {
          "base_uri": "https://localhost:8080/"
        },
        "id": "88bf1e45",
        "outputId": "c63526fe-3479-40e1-feea-6ca21532c5b8"
      },
      "outputs": [
        {
          "output_type": "execute_result",
          "data": {
            "text/plain": [
              "0"
            ]
          },
          "metadata": {},
          "execution_count": 163
        }
      ],
      "source": [
        "data[['RHS']].duplicated().sum()"
      ]
    },
    {
      "cell_type": "code",
      "execution_count": null,
      "id": "8a9650df",
      "metadata": {
        "colab": {
          "base_uri": "https://localhost:8080/"
        },
        "id": "8a9650df",
        "outputId": "ef1be683-e776-4620-ee9f-a95c9b01e10a"
      },
      "outputs": [
        {
          "output_type": "execute_result",
          "data": {
            "text/plain": [
              "1"
            ]
          },
          "metadata": {},
          "execution_count": 164
        }
      ],
      "source": [
        "data[['Abstract']].duplicated().sum()"
      ]
    },
    {
      "cell_type": "code",
      "execution_count": null,
      "id": "7574686e",
      "metadata": {
        "id": "7574686e"
      },
      "outputs": [],
      "source": [
        "contraction_mapping = {\"ain't\": \"is not\", \"aren't\": \"are not\",\"can't\": \"cannot\", \"'cause\": \"because\", \"could've\": \"could have\", \"couldn't\": \"could not\",\n",
        "\n",
        "                           \"didn't\": \"did not\", \"doesn't\": \"does not\", \"don't\": \"do not\", \"hadn't\": \"had not\", \"hasn't\": \"has not\", \"haven't\": \"have not\",\n",
        "\n",
        "                           \"he'd\": \"he would\",\"he'll\": \"he will\", \"he's\": \"he is\", \"how'd\": \"how did\", \"how'd'y\": \"how do you\", \"how'll\": \"how will\", \"how's\": \"how is\",\n",
        "\n",
        "                           \"I'd\": \"I would\", \"I'd've\": \"I would have\", \"I'll\": \"I will\", \"I'll've\": \"I will have\",\"I'm\": \"I am\", \"I've\": \"I have\", \"i'd\": \"i would\",\n",
        "\n",
        "                           \"i'd've\": \"i would have\", \"i'll\": \"i will\",  \"i'll've\": \"i will have\",\"i'm\": \"i am\", \"i've\": \"i have\", \"isn't\": \"is not\", \"it'd\": \"it would\",\n",
        "\n",
        "                           \"it'd've\": \"it would have\", \"it'll\": \"it will\", \"it'll've\": \"it will have\",\"it's\": \"it is\", \"let's\": \"let us\", \"ma'am\": \"madam\",\n",
        "\n",
        "                           \"mayn't\": \"may not\", \"might've\": \"might have\",\"mightn't\": \"might not\",\"mightn't've\": \"might not have\", \"must've\": \"must have\",\n",
        "\n",
        "                           \"mustn't\": \"must not\", \"mustn't've\": \"must not have\", \"needn't\": \"need not\", \"needn't've\": \"need not have\",\"o'clock\": \"of the clock\",\n",
        "\n",
        "                           \"oughtn't\": \"ought not\", \"oughtn't've\": \"ought not have\", \"shan't\": \"shall not\", \"sha'n't\": \"shall not\", \"shan't've\": \"shall not have\",\n",
        "\n",
        "                           \"she'd\": \"she would\", \"she'd've\": \"she would have\", \"she'll\": \"she will\", \"she'll've\": \"she will have\", \"she's\": \"she is\",\n",
        "\n",
        "                           \"should've\": \"should have\", \"shouldn't\": \"should not\", \"shouldn't've\": \"should not have\", \"so've\": \"so have\",\"so's\": \"so as\",\n",
        "\n",
        "                           \"this's\": \"this is\",\"that'd\": \"that would\", \"that'd've\": \"that would have\", \"that's\": \"that is\", \"there'd\": \"there would\",\n",
        "\n",
        "                           \"there'd've\": \"there would have\", \"there's\": \"there is\", \"here's\": \"here is\",\"they'd\": \"they would\", \"they'd've\": \"they would have\",\n",
        "\n",
        "                           \"they'll\": \"they will\", \"they'll've\": \"they will have\", \"they're\": \"they are\", \"they've\": \"they have\", \"to've\": \"to have\",\n",
        "\n",
        "                           \"wasn't\": \"was not\", \"we'd\": \"we would\", \"we'd've\": \"we would have\", \"we'll\": \"we will\", \"we'll've\": \"we will have\", \"we're\": \"we are\",\n",
        "\n",
        "                           \"we've\": \"we have\", \"weren't\": \"were not\", \"what'll\": \"what will\", \"what'll've\": \"what will have\", \"what're\": \"what are\",\n",
        "\n",
        "                           \"what's\": \"what is\", \"what've\": \"what have\", \"when's\": \"when is\", \"when've\": \"when have\", \"where'd\": \"where did\", \"where's\": \"where is\",\n",
        "\n",
        "                           \"where've\": \"where have\", \"who'll\": \"who will\", \"who'll've\": \"who will have\", \"who's\": \"who is\", \"who've\": \"who have\",\n",
        "\n",
        "                           \"why's\": \"why is\", \"why've\": \"why have\", \"will've\": \"will have\", \"won't\": \"will not\", \"won't've\": \"will not have\",\n",
        "\n",
        "                           \"would've\": \"would have\", \"wouldn't\": \"would not\", \"wouldn't've\": \"would not have\", \"y'all\": \"you all\",\n",
        "\n",
        "                           \"y'all'd\": \"you all would\",\"y'all'd've\": \"you all would have\",\"y'all're\": \"you all are\",\"y'all've\": \"you all have\",\n",
        "\n",
        "                           \"you'd\": \"you would\", \"you'd've\": \"you would have\", \"you'll\": \"you will\", \"you'll've\": \"you will have\",\n",
        "\n",
        "                           \"you're\": \"you are\", \"you've\": \"you have\"}"
      ]
    },
    {
      "cell_type": "code",
      "execution_count": null,
      "id": "aecf4051",
      "metadata": {
        "colab": {
          "base_uri": "https://localhost:8080/"
        },
        "id": "aecf4051",
        "outputId": "4f2531e1-4cfd-42d0-c132-3f49da7a119b"
      },
      "outputs": [
        {
          "output_type": "stream",
          "name": "stderr",
          "text": [
            "[nltk_data] Downloading package stopwords to /root/nltk_data...\n",
            "[nltk_data]   Package stopwords is already up-to-date!\n"
          ]
        }
      ],
      "source": [
        "import nltk\n",
        "nltk.download('stopwords')\n",
        "stop_words = set(stopwords.words('english')) \n",
        "def text_cleaner(text):\n",
        "    newString = text.lower()\n",
        "    newString = BeautifulSoup(newString, \"lxml\").text\n",
        "    newString = re.sub(r'\\([^)]*\\)', '', newString)\n",
        "    newString = re.sub('\"','', newString)\n",
        "    newString = ' '.join([contraction_mapping[t] if t in contraction_mapping else t for t in newString.split(\" \")])    \n",
        "    newString = re.sub(r\"'s\\b\",\"\",newString)\n",
        "    newString = re.sub(\"[^a-zA-Z]\", \" \", newString) \n",
        "    tokens = [w for w in newString.split() if not w in stop_words]\n",
        "    long_words=[]\n",
        "    for i in tokens:\n",
        "        if len(i)>=3:                  #removing short word\n",
        "            long_words.append(i)   \n",
        "    return (\" \".join(long_words)).strip()\n",
        "\n",
        "# cleaned_text = []\n",
        "# for t in data['Abstract']:\n",
        "#     cleaned_text.append(text_cleaner(t))"
      ]
    },
    {
      "cell_type": "code",
      "execution_count": null,
      "id": "9fee9243",
      "metadata": {
        "id": "9fee9243"
      },
      "outputs": [],
      "source": [
        "data['Abstract_cleaned'] = data['Abstract'].apply(text_cleaner)"
      ]
    },
    {
      "cell_type": "code",
      "execution_count": null,
      "id": "317febc2",
      "metadata": {
        "id": "317febc2"
      },
      "outputs": [],
      "source": [
        "data1['Abstract_cleaned'] = data1['Abstract'].apply(text_cleaner)\n"
      ]
    },
    {
      "cell_type": "code",
      "execution_count": null,
      "id": "5cfa9022",
      "metadata": {
        "colab": {
          "base_uri": "https://localhost:8080/",
          "height": 510
        },
        "id": "5cfa9022",
        "outputId": "ca46935b-a97e-4503-ef5c-967cabb332a4"
      },
      "outputs": [
        {
          "output_type": "execute_result",
          "data": {
            "text/plain": [
              "                                                                                                                                                                                                  Abstract  \\\n",
              "0   This paper introduces four classes of rotation invariant orthogonal moments by generalizing four existing moments that use harmonic functions in their radial kernels . Members of these classes sh...   \n",
              "1   In this paper a MATLAB based graphical user interface software tool for general biomedical signal processing and analysis of functional neuroimaging data is introduced . Specifically electroencep...   \n",
              "2   Background and objective A markerless low cost prototype has been developed for the determination of some spatio temporal parameters of human gait step length step width and cadence have been con...   \n",
              "3   This paper presents an improved multiple instance learning tracker representing target with Distribution Fields and building a weighted geometric mean MIL classifier . Firstly we adopt DF layer a...   \n",
              "4   Text based image retrieval may perform poorly due to the irrelevant and or incomplete text surrounding the images in the web pages . In such situations visual content of the images can be leverag...   \n",
              "\n",
              "                                                                                                                                                                                                       RHS  \\\n",
              "0  We generalize polar harmonic transforms for pattern description recognition. The generalization maintains beneficial properties of existing transforms. The completeness of the corresponding basis ...   \n",
              "1  Design of a MATLAB based GUI tool for general biomedical signal processing and analysis. EEG and ECG signals can be processed and analyzed by the designed tool. The easy to use and easy to learn i...   \n",
              "2  A markerless low cost system for the estimation of some spatial temporal parameters of human gait. A system usable on not instrumented treadmill. A system characterized by a very high level of aut...   \n",
              "3  We adopt Distribution Field DF layer as feature instead of traditional Haar like one to robustly model the target. We derive an online weighted geometric mean MIL classifier to select the most dis...   \n",
              "4  A system that constructs multi instance bags from text based retrieval order. Ensemble of MI classifiers is learned using these multi instance bags. We report image re ranking performance on multi...   \n",
              "\n",
              "                                                                                                                                                                                          Abstract_cleaned  \n",
              "0  paper introduces four classes rotation invariant orthogonal moments generalizing four existing moments use harmonic functions radial kernels members classes share beneficial properties image repre...  \n",
              "1  paper matlab based graphical user interface software tool general biomedical signal processing analysis functional neuroimaging data introduced specifically electroencephalography electrocardiogra...  \n",
              "2  background objective markerless low cost prototype developed determination spatio temporal parameters human gait step length step width cadence considered smartphone high definition webcam used me...  \n",
              "3  paper presents improved multiple instance learning tracker representing target distribution fields building weighted geometric mean mil classifier firstly adopt layer feature instead traditional h...  \n",
              "4  text based image retrieval may perform poorly due irrelevant incomplete text surrounding images web pages situations visual content images leveraged improve image ranking performance paper look pr...  "
            ],
            "text/html": [
              "\n",
              "  <div id=\"df-aef8ac2a-68b0-4efb-85a1-d9153102ebea\">\n",
              "    <div class=\"colab-df-container\">\n",
              "      <div>\n",
              "<style scoped>\n",
              "    .dataframe tbody tr th:only-of-type {\n",
              "        vertical-align: middle;\n",
              "    }\n",
              "\n",
              "    .dataframe tbody tr th {\n",
              "        vertical-align: top;\n",
              "    }\n",
              "\n",
              "    .dataframe thead th {\n",
              "        text-align: right;\n",
              "    }\n",
              "</style>\n",
              "<table border=\"1\" class=\"dataframe\">\n",
              "  <thead>\n",
              "    <tr style=\"text-align: right;\">\n",
              "      <th></th>\n",
              "      <th>Abstract</th>\n",
              "      <th>RHS</th>\n",
              "      <th>Abstract_cleaned</th>\n",
              "    </tr>\n",
              "  </thead>\n",
              "  <tbody>\n",
              "    <tr>\n",
              "      <th>0</th>\n",
              "      <td>This paper introduces four classes of rotation invariant orthogonal moments by generalizing four existing moments that use harmonic functions in their radial kernels . Members of these classes sh...</td>\n",
              "      <td>We generalize polar harmonic transforms for pattern description recognition. The generalization maintains beneficial properties of existing transforms. The completeness of the corresponding basis ...</td>\n",
              "      <td>paper introduces four classes rotation invariant orthogonal moments generalizing four existing moments use harmonic functions radial kernels members classes share beneficial properties image repre...</td>\n",
              "    </tr>\n",
              "    <tr>\n",
              "      <th>1</th>\n",
              "      <td>In this paper a MATLAB based graphical user interface software tool for general biomedical signal processing and analysis of functional neuroimaging data is introduced . Specifically electroencep...</td>\n",
              "      <td>Design of a MATLAB based GUI tool for general biomedical signal processing and analysis. EEG and ECG signals can be processed and analyzed by the designed tool. The easy to use and easy to learn i...</td>\n",
              "      <td>paper matlab based graphical user interface software tool general biomedical signal processing analysis functional neuroimaging data introduced specifically electroencephalography electrocardiogra...</td>\n",
              "    </tr>\n",
              "    <tr>\n",
              "      <th>2</th>\n",
              "      <td>Background and objective A markerless low cost prototype has been developed for the determination of some spatio temporal parameters of human gait step length step width and cadence have been con...</td>\n",
              "      <td>A markerless low cost system for the estimation of some spatial temporal parameters of human gait. A system usable on not instrumented treadmill. A system characterized by a very high level of aut...</td>\n",
              "      <td>background objective markerless low cost prototype developed determination spatio temporal parameters human gait step length step width cadence considered smartphone high definition webcam used me...</td>\n",
              "    </tr>\n",
              "    <tr>\n",
              "      <th>3</th>\n",
              "      <td>This paper presents an improved multiple instance learning tracker representing target with Distribution Fields and building a weighted geometric mean MIL classifier . Firstly we adopt DF layer a...</td>\n",
              "      <td>We adopt Distribution Field DF layer as feature instead of traditional Haar like one to robustly model the target. We derive an online weighted geometric mean MIL classifier to select the most dis...</td>\n",
              "      <td>paper presents improved multiple instance learning tracker representing target distribution fields building weighted geometric mean mil classifier firstly adopt layer feature instead traditional h...</td>\n",
              "    </tr>\n",
              "    <tr>\n",
              "      <th>4</th>\n",
              "      <td>Text based image retrieval may perform poorly due to the irrelevant and or incomplete text surrounding the images in the web pages . In such situations visual content of the images can be leverag...</td>\n",
              "      <td>A system that constructs multi instance bags from text based retrieval order. Ensemble of MI classifiers is learned using these multi instance bags. We report image re ranking performance on multi...</td>\n",
              "      <td>text based image retrieval may perform poorly due irrelevant incomplete text surrounding images web pages situations visual content images leveraged improve image ranking performance paper look pr...</td>\n",
              "    </tr>\n",
              "  </tbody>\n",
              "</table>\n",
              "</div>\n",
              "      <button class=\"colab-df-convert\" onclick=\"convertToInteractive('df-aef8ac2a-68b0-4efb-85a1-d9153102ebea')\"\n",
              "              title=\"Convert this dataframe to an interactive table.\"\n",
              "              style=\"display:none;\">\n",
              "        \n",
              "  <svg xmlns=\"http://www.w3.org/2000/svg\" height=\"24px\"viewBox=\"0 0 24 24\"\n",
              "       width=\"24px\">\n",
              "    <path d=\"M0 0h24v24H0V0z\" fill=\"none\"/>\n",
              "    <path d=\"M18.56 5.44l.94 2.06.94-2.06 2.06-.94-2.06-.94-.94-2.06-.94 2.06-2.06.94zm-11 1L8.5 8.5l.94-2.06 2.06-.94-2.06-.94L8.5 2.5l-.94 2.06-2.06.94zm10 10l.94 2.06.94-2.06 2.06-.94-2.06-.94-.94-2.06-.94 2.06-2.06.94z\"/><path d=\"M17.41 7.96l-1.37-1.37c-.4-.4-.92-.59-1.43-.59-.52 0-1.04.2-1.43.59L10.3 9.45l-7.72 7.72c-.78.78-.78 2.05 0 2.83L4 21.41c.39.39.9.59 1.41.59.51 0 1.02-.2 1.41-.59l7.78-7.78 2.81-2.81c.8-.78.8-2.07 0-2.86zM5.41 20L4 18.59l7.72-7.72 1.47 1.35L5.41 20z\"/>\n",
              "  </svg>\n",
              "      </button>\n",
              "      \n",
              "  <style>\n",
              "    .colab-df-container {\n",
              "      display:flex;\n",
              "      flex-wrap:wrap;\n",
              "      gap: 12px;\n",
              "    }\n",
              "\n",
              "    .colab-df-convert {\n",
              "      background-color: #E8F0FE;\n",
              "      border: none;\n",
              "      border-radius: 50%;\n",
              "      cursor: pointer;\n",
              "      display: none;\n",
              "      fill: #1967D2;\n",
              "      height: 32px;\n",
              "      padding: 0 0 0 0;\n",
              "      width: 32px;\n",
              "    }\n",
              "\n",
              "    .colab-df-convert:hover {\n",
              "      background-color: #E2EBFA;\n",
              "      box-shadow: 0px 1px 2px rgba(60, 64, 67, 0.3), 0px 1px 3px 1px rgba(60, 64, 67, 0.15);\n",
              "      fill: #174EA6;\n",
              "    }\n",
              "\n",
              "    [theme=dark] .colab-df-convert {\n",
              "      background-color: #3B4455;\n",
              "      fill: #D2E3FC;\n",
              "    }\n",
              "\n",
              "    [theme=dark] .colab-df-convert:hover {\n",
              "      background-color: #434B5C;\n",
              "      box-shadow: 0px 1px 3px 1px rgba(0, 0, 0, 0.15);\n",
              "      filter: drop-shadow(0px 1px 2px rgba(0, 0, 0, 0.3));\n",
              "      fill: #FFFFFF;\n",
              "    }\n",
              "  </style>\n",
              "\n",
              "      <script>\n",
              "        const buttonEl =\n",
              "          document.querySelector('#df-aef8ac2a-68b0-4efb-85a1-d9153102ebea button.colab-df-convert');\n",
              "        buttonEl.style.display =\n",
              "          google.colab.kernel.accessAllowed ? 'block' : 'none';\n",
              "\n",
              "        async function convertToInteractive(key) {\n",
              "          const element = document.querySelector('#df-aef8ac2a-68b0-4efb-85a1-d9153102ebea');\n",
              "          const dataTable =\n",
              "            await google.colab.kernel.invokeFunction('convertToInteractive',\n",
              "                                                     [key], {});\n",
              "          if (!dataTable) return;\n",
              "\n",
              "          const docLinkHtml = 'Like what you see? Visit the ' +\n",
              "            '<a target=\"_blank\" href=https://colab.research.google.com/notebooks/data_table.ipynb>data table notebook</a>'\n",
              "            + ' to learn more about interactive tables.';\n",
              "          element.innerHTML = '';\n",
              "          dataTable['output_type'] = 'display_data';\n",
              "          await google.colab.output.renderOutput(dataTable, element);\n",
              "          const docLink = document.createElement('div');\n",
              "          docLink.innerHTML = docLinkHtml;\n",
              "          element.appendChild(docLink);\n",
              "        }\n",
              "      </script>\n",
              "    </div>\n",
              "  </div>\n",
              "  "
            ]
          },
          "metadata": {},
          "execution_count": 169
        }
      ],
      "source": [
        "# data.drop([['cleantext']],inplace = True)\n",
        "# data.head()\n",
        "data = data[['Abstract','RHS','Abstract_cleaned']]\n",
        "data.head()"
      ]
    },
    {
      "cell_type": "code",
      "execution_count": null,
      "id": "b0bc621a",
      "metadata": {
        "id": "b0bc621a"
      },
      "outputs": [],
      "source": [
        "def summary_cleaner(text):\n",
        "    newString = re.sub('\"','', text)\n",
        "    newString = ' '.join([contraction_mapping[t] if t in contraction_mapping else t for t in newString.split(\" \")])    \n",
        "    newString = re.sub(r\"'s\\b\",\"\",newString)\n",
        "    newString = re.sub(\"[^a-zA-Z]\", \" \", newString)\n",
        "    newString = newString.lower()\n",
        "    tokens=newString.split()\n",
        "    newString=''\n",
        "    for i in tokens:\n",
        "        if len(i)>1:                                 \n",
        "            newString=newString+i+' '  \n",
        "    return newString\n"
      ]
    },
    {
      "cell_type": "code",
      "execution_count": null,
      "id": "537bda1a",
      "metadata": {
        "id": "537bda1a"
      },
      "outputs": [],
      "source": [
        "data['RHS_cleaned'] = data['RHS'].apply(summary_cleaner)\n",
        "data1['RHS_cleaned'] = data1['RHS'].apply(text_cleaner)\n",
        "data1['RHS_cleaned'] = data1['RHS_cleaned'].apply(lambda x : '_START_ '+ x + ' _END_')"
      ]
    },
    {
      "cell_type": "code",
      "execution_count": null,
      "id": "d194834a",
      "metadata": {
        "colab": {
          "base_uri": "https://localhost:8080/",
          "height": 211
        },
        "id": "d194834a",
        "outputId": "7c158cfc-75bf-4472-9045-364924145e0a"
      },
      "outputs": [
        {
          "output_type": "execute_result",
          "data": {
            "text/plain": [
              "                                                                                                                                                                                                  Abstract  \\\n",
              "0   This paper introduces four classes of rotation invariant orthogonal moments by generalizing four existing moments that use harmonic functions in their radial kernels . Members of these classes sh...   \n",
              "\n",
              "                                                                                                                                                                                                       RHS  \\\n",
              "0  We generalize polar harmonic transforms for pattern description recognition. The generalization maintains beneficial properties of existing transforms. The completeness of the corresponding basis ...   \n",
              "\n",
              "                                                                                                                                                                                          Abstract_cleaned  \\\n",
              "0  paper introduces four classes rotation invariant orthogonal moments generalizing four existing moments use harmonic functions radial kernels members classes share beneficial properties image repre...   \n",
              "\n",
              "                                                                                                                                                                                               RHS_cleaned  \n",
              "0  we generalize polar harmonic transforms for pattern description recognition the generalization maintains beneficial properties of existing transforms the completeness of the corresponding basis se...  "
            ],
            "text/html": [
              "\n",
              "  <div id=\"df-00fe0485-7eb6-4d47-b3fa-d34e036ced2b\">\n",
              "    <div class=\"colab-df-container\">\n",
              "      <div>\n",
              "<style scoped>\n",
              "    .dataframe tbody tr th:only-of-type {\n",
              "        vertical-align: middle;\n",
              "    }\n",
              "\n",
              "    .dataframe tbody tr th {\n",
              "        vertical-align: top;\n",
              "    }\n",
              "\n",
              "    .dataframe thead th {\n",
              "        text-align: right;\n",
              "    }\n",
              "</style>\n",
              "<table border=\"1\" class=\"dataframe\">\n",
              "  <thead>\n",
              "    <tr style=\"text-align: right;\">\n",
              "      <th></th>\n",
              "      <th>Abstract</th>\n",
              "      <th>RHS</th>\n",
              "      <th>Abstract_cleaned</th>\n",
              "      <th>RHS_cleaned</th>\n",
              "    </tr>\n",
              "  </thead>\n",
              "  <tbody>\n",
              "    <tr>\n",
              "      <th>0</th>\n",
              "      <td>This paper introduces four classes of rotation invariant orthogonal moments by generalizing four existing moments that use harmonic functions in their radial kernels . Members of these classes sh...</td>\n",
              "      <td>We generalize polar harmonic transforms for pattern description recognition. The generalization maintains beneficial properties of existing transforms. The completeness of the corresponding basis ...</td>\n",
              "      <td>paper introduces four classes rotation invariant orthogonal moments generalizing four existing moments use harmonic functions radial kernels members classes share beneficial properties image repre...</td>\n",
              "      <td>we generalize polar harmonic transforms for pattern description recognition the generalization maintains beneficial properties of existing transforms the completeness of the corresponding basis se...</td>\n",
              "    </tr>\n",
              "  </tbody>\n",
              "</table>\n",
              "</div>\n",
              "      <button class=\"colab-df-convert\" onclick=\"convertToInteractive('df-00fe0485-7eb6-4d47-b3fa-d34e036ced2b')\"\n",
              "              title=\"Convert this dataframe to an interactive table.\"\n",
              "              style=\"display:none;\">\n",
              "        \n",
              "  <svg xmlns=\"http://www.w3.org/2000/svg\" height=\"24px\"viewBox=\"0 0 24 24\"\n",
              "       width=\"24px\">\n",
              "    <path d=\"M0 0h24v24H0V0z\" fill=\"none\"/>\n",
              "    <path d=\"M18.56 5.44l.94 2.06.94-2.06 2.06-.94-2.06-.94-.94-2.06-.94 2.06-2.06.94zm-11 1L8.5 8.5l.94-2.06 2.06-.94-2.06-.94L8.5 2.5l-.94 2.06-2.06.94zm10 10l.94 2.06.94-2.06 2.06-.94-2.06-.94-.94-2.06-.94 2.06-2.06.94z\"/><path d=\"M17.41 7.96l-1.37-1.37c-.4-.4-.92-.59-1.43-.59-.52 0-1.04.2-1.43.59L10.3 9.45l-7.72 7.72c-.78.78-.78 2.05 0 2.83L4 21.41c.39.39.9.59 1.41.59.51 0 1.02-.2 1.41-.59l7.78-7.78 2.81-2.81c.8-.78.8-2.07 0-2.86zM5.41 20L4 18.59l7.72-7.72 1.47 1.35L5.41 20z\"/>\n",
              "  </svg>\n",
              "      </button>\n",
              "      \n",
              "  <style>\n",
              "    .colab-df-container {\n",
              "      display:flex;\n",
              "      flex-wrap:wrap;\n",
              "      gap: 12px;\n",
              "    }\n",
              "\n",
              "    .colab-df-convert {\n",
              "      background-color: #E8F0FE;\n",
              "      border: none;\n",
              "      border-radius: 50%;\n",
              "      cursor: pointer;\n",
              "      display: none;\n",
              "      fill: #1967D2;\n",
              "      height: 32px;\n",
              "      padding: 0 0 0 0;\n",
              "      width: 32px;\n",
              "    }\n",
              "\n",
              "    .colab-df-convert:hover {\n",
              "      background-color: #E2EBFA;\n",
              "      box-shadow: 0px 1px 2px rgba(60, 64, 67, 0.3), 0px 1px 3px 1px rgba(60, 64, 67, 0.15);\n",
              "      fill: #174EA6;\n",
              "    }\n",
              "\n",
              "    [theme=dark] .colab-df-convert {\n",
              "      background-color: #3B4455;\n",
              "      fill: #D2E3FC;\n",
              "    }\n",
              "\n",
              "    [theme=dark] .colab-df-convert:hover {\n",
              "      background-color: #434B5C;\n",
              "      box-shadow: 0px 1px 3px 1px rgba(0, 0, 0, 0.15);\n",
              "      filter: drop-shadow(0px 1px 2px rgba(0, 0, 0, 0.3));\n",
              "      fill: #FFFFFF;\n",
              "    }\n",
              "  </style>\n",
              "\n",
              "      <script>\n",
              "        const buttonEl =\n",
              "          document.querySelector('#df-00fe0485-7eb6-4d47-b3fa-d34e036ced2b button.colab-df-convert');\n",
              "        buttonEl.style.display =\n",
              "          google.colab.kernel.accessAllowed ? 'block' : 'none';\n",
              "\n",
              "        async function convertToInteractive(key) {\n",
              "          const element = document.querySelector('#df-00fe0485-7eb6-4d47-b3fa-d34e036ced2b');\n",
              "          const dataTable =\n",
              "            await google.colab.kernel.invokeFunction('convertToInteractive',\n",
              "                                                     [key], {});\n",
              "          if (!dataTable) return;\n",
              "\n",
              "          const docLinkHtml = 'Like what you see? Visit the ' +\n",
              "            '<a target=\"_blank\" href=https://colab.research.google.com/notebooks/data_table.ipynb>data table notebook</a>'\n",
              "            + ' to learn more about interactive tables.';\n",
              "          element.innerHTML = '';\n",
              "          dataTable['output_type'] = 'display_data';\n",
              "          await google.colab.output.renderOutput(dataTable, element);\n",
              "          const docLink = document.createElement('div');\n",
              "          docLink.innerHTML = docLinkHtml;\n",
              "          element.appendChild(docLink);\n",
              "        }\n",
              "      </script>\n",
              "    </div>\n",
              "  </div>\n",
              "  "
            ]
          },
          "metadata": {},
          "execution_count": 172
        }
      ],
      "source": [
        "data.head(1) #trianing data"
      ]
    },
    {
      "cell_type": "code",
      "execution_count": null,
      "id": "351c14cd",
      "metadata": {
        "colab": {
          "base_uri": "https://localhost:8080/",
          "height": 211
        },
        "id": "351c14cd",
        "outputId": "c1bb1931-7f14-4edf-b3eb-0d4b2d326146"
      },
      "outputs": [
        {
          "output_type": "execute_result",
          "data": {
            "text/plain": [
              "                                                                                                                                                                                                  Abstract  \\\n",
              "0   Human face can be seen as a soft tissue organ complex with a large investing network of musculature . Due to its complexity most existing computational models approximate these muscular structure...   \n",
              "\n",
              "                                                                                                                                                                                                       RHS  \\\n",
              "0  We model the deformation of the human face due to muscle contraction. 3 D muscles with anatomical geometry and fibre orientation is used. Muscle forces are represented as discrete point load at th...   \n",
              "\n",
              "                                                                                                                                                                                          Abstract_cleaned  \\\n",
              "0  human face seen soft tissue organ complex large investing network musculature due complexity existing computational models approximate muscular structures using simple geometries curves primitive ...   \n",
              "\n",
              "                                                                                                                                                                                               RHS_cleaned  \n",
              "0  _START_ model deformation human face due muscle contraction muscles anatomical geometry fibre orientation used muscle forces represented discrete point load integration points increasing number em...  "
            ],
            "text/html": [
              "\n",
              "  <div id=\"df-17352f04-571d-4f68-98c4-17ceaf9e3829\">\n",
              "    <div class=\"colab-df-container\">\n",
              "      <div>\n",
              "<style scoped>\n",
              "    .dataframe tbody tr th:only-of-type {\n",
              "        vertical-align: middle;\n",
              "    }\n",
              "\n",
              "    .dataframe tbody tr th {\n",
              "        vertical-align: top;\n",
              "    }\n",
              "\n",
              "    .dataframe thead th {\n",
              "        text-align: right;\n",
              "    }\n",
              "</style>\n",
              "<table border=\"1\" class=\"dataframe\">\n",
              "  <thead>\n",
              "    <tr style=\"text-align: right;\">\n",
              "      <th></th>\n",
              "      <th>Abstract</th>\n",
              "      <th>RHS</th>\n",
              "      <th>Abstract_cleaned</th>\n",
              "      <th>RHS_cleaned</th>\n",
              "    </tr>\n",
              "  </thead>\n",
              "  <tbody>\n",
              "    <tr>\n",
              "      <th>0</th>\n",
              "      <td>Human face can be seen as a soft tissue organ complex with a large investing network of musculature . Due to its complexity most existing computational models approximate these muscular structure...</td>\n",
              "      <td>We model the deformation of the human face due to muscle contraction. 3 D muscles with anatomical geometry and fibre orientation is used. Muscle forces are represented as discrete point load at th...</td>\n",
              "      <td>human face seen soft tissue organ complex large investing network musculature due complexity existing computational models approximate muscular structures using simple geometries curves primitive ...</td>\n",
              "      <td>_START_ model deformation human face due muscle contraction muscles anatomical geometry fibre orientation used muscle forces represented discrete point load integration points increasing number em...</td>\n",
              "    </tr>\n",
              "  </tbody>\n",
              "</table>\n",
              "</div>\n",
              "      <button class=\"colab-df-convert\" onclick=\"convertToInteractive('df-17352f04-571d-4f68-98c4-17ceaf9e3829')\"\n",
              "              title=\"Convert this dataframe to an interactive table.\"\n",
              "              style=\"display:none;\">\n",
              "        \n",
              "  <svg xmlns=\"http://www.w3.org/2000/svg\" height=\"24px\"viewBox=\"0 0 24 24\"\n",
              "       width=\"24px\">\n",
              "    <path d=\"M0 0h24v24H0V0z\" fill=\"none\"/>\n",
              "    <path d=\"M18.56 5.44l.94 2.06.94-2.06 2.06-.94-2.06-.94-.94-2.06-.94 2.06-2.06.94zm-11 1L8.5 8.5l.94-2.06 2.06-.94-2.06-.94L8.5 2.5l-.94 2.06-2.06.94zm10 10l.94 2.06.94-2.06 2.06-.94-2.06-.94-.94-2.06-.94 2.06-2.06.94z\"/><path d=\"M17.41 7.96l-1.37-1.37c-.4-.4-.92-.59-1.43-.59-.52 0-1.04.2-1.43.59L10.3 9.45l-7.72 7.72c-.78.78-.78 2.05 0 2.83L4 21.41c.39.39.9.59 1.41.59.51 0 1.02-.2 1.41-.59l7.78-7.78 2.81-2.81c.8-.78.8-2.07 0-2.86zM5.41 20L4 18.59l7.72-7.72 1.47 1.35L5.41 20z\"/>\n",
              "  </svg>\n",
              "      </button>\n",
              "      \n",
              "  <style>\n",
              "    .colab-df-container {\n",
              "      display:flex;\n",
              "      flex-wrap:wrap;\n",
              "      gap: 12px;\n",
              "    }\n",
              "\n",
              "    .colab-df-convert {\n",
              "      background-color: #E8F0FE;\n",
              "      border: none;\n",
              "      border-radius: 50%;\n",
              "      cursor: pointer;\n",
              "      display: none;\n",
              "      fill: #1967D2;\n",
              "      height: 32px;\n",
              "      padding: 0 0 0 0;\n",
              "      width: 32px;\n",
              "    }\n",
              "\n",
              "    .colab-df-convert:hover {\n",
              "      background-color: #E2EBFA;\n",
              "      box-shadow: 0px 1px 2px rgba(60, 64, 67, 0.3), 0px 1px 3px 1px rgba(60, 64, 67, 0.15);\n",
              "      fill: #174EA6;\n",
              "    }\n",
              "\n",
              "    [theme=dark] .colab-df-convert {\n",
              "      background-color: #3B4455;\n",
              "      fill: #D2E3FC;\n",
              "    }\n",
              "\n",
              "    [theme=dark] .colab-df-convert:hover {\n",
              "      background-color: #434B5C;\n",
              "      box-shadow: 0px 1px 3px 1px rgba(0, 0, 0, 0.15);\n",
              "      filter: drop-shadow(0px 1px 2px rgba(0, 0, 0, 0.3));\n",
              "      fill: #FFFFFF;\n",
              "    }\n",
              "  </style>\n",
              "\n",
              "      <script>\n",
              "        const buttonEl =\n",
              "          document.querySelector('#df-17352f04-571d-4f68-98c4-17ceaf9e3829 button.colab-df-convert');\n",
              "        buttonEl.style.display =\n",
              "          google.colab.kernel.accessAllowed ? 'block' : 'none';\n",
              "\n",
              "        async function convertToInteractive(key) {\n",
              "          const element = document.querySelector('#df-17352f04-571d-4f68-98c4-17ceaf9e3829');\n",
              "          const dataTable =\n",
              "            await google.colab.kernel.invokeFunction('convertToInteractive',\n",
              "                                                     [key], {});\n",
              "          if (!dataTable) return;\n",
              "\n",
              "          const docLinkHtml = 'Like what you see? Visit the ' +\n",
              "            '<a target=\"_blank\" href=https://colab.research.google.com/notebooks/data_table.ipynb>data table notebook</a>'\n",
              "            + ' to learn more about interactive tables.';\n",
              "          element.innerHTML = '';\n",
              "          dataTable['output_type'] = 'display_data';\n",
              "          await google.colab.output.renderOutput(dataTable, element);\n",
              "          const docLink = document.createElement('div');\n",
              "          docLink.innerHTML = docLinkHtml;\n",
              "          element.appendChild(docLink);\n",
              "        }\n",
              "      </script>\n",
              "    </div>\n",
              "  </div>\n",
              "  "
            ]
          },
          "metadata": {},
          "execution_count": 173
        }
      ],
      "source": [
        "data1.head(1) #testing data"
      ]
    },
    {
      "cell_type": "code",
      "execution_count": null,
      "id": "ad8c6716",
      "metadata": {
        "id": "ad8c6716"
      },
      "outputs": [],
      "source": [
        "x_tr = data['Abstract_cleaned']\n",
        "y_tr = data['RHS_cleaned']\n",
        "x_val = data1['Abstract_cleaned']\n",
        "y_val = data1['RHS_cleaned']\n",
        "    "
      ]
    },
    {
      "cell_type": "code",
      "execution_count": null,
      "id": "67ab46fe",
      "metadata": {
        "id": "67ab46fe"
      },
      "outputs": [],
      "source": [
        "max_len_text=80\n",
        "max_len_summary = 10\n",
        "x_tokenizer = Tokenizer()\n",
        "x_tokenizer.fit_on_texts(list(x_tr))\n",
        "\n",
        "#convert text sequences into integer sequences\n",
        "x_tr    =   x_tokenizer.texts_to_sequences(x_tr) \n",
        "x_val   =   x_tokenizer.texts_to_sequences(x_val)\n",
        "\n",
        "#padding zero upto maximum length\n",
        "x_tr    =   pad_sequences(x_tr,  maxlen=max_len_text, padding='post') \n",
        "x_val   =   pad_sequences(x_val, maxlen=max_len_text, padding='post')\n",
        "\n",
        "x_voc_size   =  len(x_tokenizer.word_index) +1"
      ]
    },
    {
      "cell_type": "code",
      "execution_count": null,
      "id": "421bf3e3",
      "metadata": {
        "id": "421bf3e3"
      },
      "outputs": [],
      "source": [
        "#preparing a tokenizer for summary on training data \n",
        "y_tokenizer = Tokenizer()\n",
        "y_tokenizer.fit_on_texts(list(y_tr))\n",
        "\n",
        "#convert summary sequences into integer sequences\n",
        "y_tr    =   y_tokenizer.texts_to_sequences(y_tr) \n",
        "y_val   =   y_tokenizer.texts_to_sequences(y_val) \n",
        "\n",
        "#padding zero upto maximum length\n",
        "y_tr    =   pad_sequences(y_tr, maxlen=max_len_summary, padding='post')\n",
        "y_val   =   pad_sequences(y_val, maxlen=max_len_summary, padding='post')\n",
        "\n",
        "y_voc_size  =   len(y_tokenizer.word_index) +1"
      ]
    },
    {
      "cell_type": "code",
      "execution_count": null,
      "id": "d13fb76a",
      "metadata": {
        "colab": {
          "base_uri": "https://localhost:8080/"
        },
        "id": "d13fb76a",
        "outputId": "8cbf8d4b-c847-4350-e4f6-b9921a70e94d"
      },
      "outputs": [
        {
          "output_type": "stream",
          "name": "stdout",
          "text": [
            "Model: \"model\"\n",
            "__________________________________________________________________________________________________\n",
            " Layer (type)                   Output Shape         Param #     Connected to                     \n",
            "==================================================================================================\n",
            " input_1 (InputLayer)           [(None, 80)]         0           []                               \n",
            "                                                                                                  \n",
            " embedding (Embedding)          (None, 80, 500)      7714000     ['input_1[0][0]']                \n",
            "                                                                                                  \n",
            " input_2 (InputLayer)           [(None, None)]       0           []                               \n",
            "                                                                                                  \n",
            " lstm (LSTM)                    [(None, 80, 500),    2002000     ['embedding[0][0]']              \n",
            "                                 (None, 500),                                                     \n",
            "                                 (None, 500)]                                                     \n",
            "                                                                                                  \n",
            " embedding_1 (Embedding)        (None, None, 500)    5025000     ['input_2[0][0]']                \n",
            "                                                                                                  \n",
            " lstm_1 (LSTM)                  [(None, 80, 500),    2002000     ['lstm[0][0]']                   \n",
            "                                 (None, 500),                                                     \n",
            "                                 (None, 500)]                                                     \n",
            "                                                                                                  \n",
            " lstm_2 (LSTM)                  [(None, None, 500),  2002000     ['embedding_1[0][0]',            \n",
            "                                 (None, 500),                     'lstm_1[0][1]',                 \n",
            "                                 (None, 500)]                     'lstm_1[0][2]']                 \n",
            "                                                                                                  \n",
            " attention_layer (AttentionLaye  ((None, None, 500),  500500     ['lstm_1[0][0]',                 \n",
            " r)                              (None, None, 80))                'lstm_2[0][0]']                 \n",
            "                                                                                                  \n",
            " concat_layer (Concatenate)     (None, None, 1000)   0           ['lstm_2[0][0]',                 \n",
            "                                                                  'attention_layer[0][0]']        \n",
            "                                                                                                  \n",
            " time_distributed (TimeDistribu  (None, None, 10050)  10060050   ['concat_layer[0][0]']           \n",
            " ted)                                                                                             \n",
            "                                                                                                  \n",
            "==================================================================================================\n",
            "Total params: 29,305,550\n",
            "Trainable params: 29,305,550\n",
            "Non-trainable params: 0\n",
            "__________________________________________________________________________________________________\n"
          ]
        }
      ],
      "source": [
        "from keras import backend as K \n",
        "K.clear_session() \n",
        "latent_dim = 500 \n",
        "\n",
        "# Encoder \n",
        "encoder_inputs = Input(shape=(max_len_text,)) \n",
        "enc_emb = Embedding(x_voc_size, latent_dim,trainable=True)(encoder_inputs) \n",
        "#LSTM 1 \n",
        "encoder_lstm1 = LSTM(latent_dim,return_sequences=True,return_state=True) \n",
        "encoder_output1, state_h1, state_c1 = encoder_lstm1(enc_emb) \n",
        "#LSTM 2 \n",
        "encoder_lstm2 = LSTM(latent_dim,return_sequences=True,return_state=True) \n",
        "encoder_outputs, state_h, state_c = encoder_lstm2(encoder_output1) \n",
        "\n",
        "#LSTM 3 \n",
        "# encoder_lstm3=LSTM(latent_dim, return_state=True, return_sequences=True) \n",
        "# encoder_outputs, state_h, state_c= encoder_lstm3(encoder_output2) \n",
        "\n",
        "# Set up the decoder. \n",
        "decoder_inputs = Input(shape=(None,)) \n",
        "dec_emb_layer = Embedding(y_voc_size, latent_dim,trainable=True) \n",
        "dec_emb = dec_emb_layer(decoder_inputs) \n",
        "\n",
        "#LSTM using encoder_states as initial state\n",
        "decoder_lstm = LSTM(latent_dim, return_sequences=True, return_state=True) \n",
        "decoder_outputs,decoder_fwd_state, decoder_back_state = decoder_lstm(dec_emb,initial_state=[state_h, state_c]) \n",
        "\n",
        "#Attention Layer\n",
        "attn_layer = AttentionLayer(name='attention_layer') \n",
        "attn_out, attn_states = attn_layer([encoder_outputs, decoder_outputs]) \n",
        "\n",
        "# Concat attention output and decoder LSTM output \n",
        "decoder_concat_input = Concatenate(axis=-1, name='concat_layer')([decoder_outputs, attn_out])\n",
        "\n",
        "#Dense layer\n",
        "decoder_dense = TimeDistributed(Dense(y_voc_size, activation='softmax')) \n",
        "decoder_outputs = decoder_dense(decoder_concat_input) \n",
        "\n",
        "# Define the model\n",
        "model = Model([encoder_inputs, decoder_inputs], decoder_outputs) \n",
        "model.summary()"
      ]
    },
    {
      "cell_type": "code",
      "execution_count": null,
      "id": "3b41a288",
      "metadata": {
        "id": "3b41a288"
      },
      "outputs": [],
      "source": [
        "model.compile(optimizer='rmsprop', loss='sparse_categorical_crossentropy')"
      ]
    },
    {
      "cell_type": "code",
      "execution_count": null,
      "id": "7f9bd4fd",
      "metadata": {
        "id": "7f9bd4fd"
      },
      "outputs": [],
      "source": [
        "es = EarlyStopping(monitor='val_loss', mode='min', verbose=1,patience = 100)"
      ]
    },
    {
      "cell_type": "code",
      "execution_count": null,
      "id": "2e9604ae",
      "metadata": {
        "colab": {
          "base_uri": "https://localhost:8080/"
        },
        "id": "2e9604ae",
        "outputId": "7936bfe8-ba79-4ffe-b009-b592f94b8287"
      },
      "outputs": [
        {
          "output_type": "stream",
          "name": "stdout",
          "text": [
            "Epoch 1/100\n",
            "10/10 [==============================] - 9s 423ms/step - loss: 7.9350 - val_loss: 8.2562\n",
            "Epoch 2/100\n",
            "10/10 [==============================] - 3s 301ms/step - loss: 7.0037 - val_loss: 8.3174\n",
            "Epoch 3/100\n",
            "10/10 [==============================] - 3s 302ms/step - loss: 6.8891 - val_loss: 8.4565\n",
            "Epoch 4/100\n",
            "10/10 [==============================] - 3s 305ms/step - loss: 6.7671 - val_loss: 8.6130\n",
            "Epoch 5/100\n",
            "10/10 [==============================] - 3s 307ms/step - loss: 6.6370 - val_loss: 8.8024\n",
            "Epoch 6/100\n",
            "10/10 [==============================] - 3s 310ms/step - loss: 6.4933 - val_loss: 9.1347\n",
            "Epoch 7/100\n",
            "10/10 [==============================] - 3s 312ms/step - loss: 6.3647 - val_loss: 9.2568\n",
            "Epoch 8/100\n",
            "10/10 [==============================] - 3s 312ms/step - loss: 6.2152 - val_loss: 9.3198\n",
            "Epoch 9/100\n",
            "10/10 [==============================] - 3s 311ms/step - loss: 6.0509 - val_loss: 9.3794\n",
            "Epoch 10/100\n",
            "10/10 [==============================] - 3s 310ms/step - loss: 5.8946 - val_loss: 9.5889\n",
            "Epoch 11/100\n",
            "10/10 [==============================] - 3s 308ms/step - loss: 6.1049 - val_loss: 9.6599\n",
            "Epoch 12/100\n",
            "10/10 [==============================] - 3s 306ms/step - loss: 5.6136 - val_loss: 9.7500\n",
            "Epoch 13/100\n",
            "10/10 [==============================] - 3s 303ms/step - loss: 5.4745 - val_loss: 9.8474\n",
            "Epoch 14/100\n",
            "10/10 [==============================] - 3s 303ms/step - loss: 5.3352 - val_loss: 9.9718\n",
            "Epoch 15/100\n",
            "10/10 [==============================] - 3s 300ms/step - loss: 5.2100 - val_loss: 10.1002\n",
            "Epoch 16/100\n",
            "10/10 [==============================] - 3s 300ms/step - loss: 5.0713 - val_loss: 10.0328\n",
            "Epoch 17/100\n",
            "10/10 [==============================] - 3s 298ms/step - loss: 4.9278 - val_loss: 10.2419\n",
            "Epoch 18/100\n",
            "10/10 [==============================] - 3s 299ms/step - loss: 4.7918 - val_loss: 10.3089\n",
            "Epoch 19/100\n",
            "10/10 [==============================] - 3s 297ms/step - loss: 4.6492 - val_loss: 10.4531\n",
            "Epoch 20/100\n",
            "10/10 [==============================] - 3s 296ms/step - loss: 4.5117 - val_loss: 10.5622\n",
            "Epoch 21/100\n",
            "10/10 [==============================] - 3s 297ms/step - loss: 4.3608 - val_loss: 10.5805\n",
            "Epoch 22/100\n",
            "10/10 [==============================] - 3s 296ms/step - loss: 4.2190 - val_loss: 10.7317\n",
            "Epoch 23/100\n",
            "10/10 [==============================] - 3s 297ms/step - loss: 4.0831 - val_loss: 10.7948\n",
            "Epoch 24/100\n",
            "10/10 [==============================] - 3s 297ms/step - loss: 3.9433 - val_loss: 10.8172\n",
            "Epoch 25/100\n",
            "10/10 [==============================] - 3s 297ms/step - loss: 3.7973 - val_loss: 10.9425\n",
            "Epoch 26/100\n",
            "10/10 [==============================] - 3s 306ms/step - loss: 3.6629 - val_loss: 11.1036\n",
            "Epoch 27/100\n",
            "10/10 [==============================] - 3s 307ms/step - loss: 3.5012 - val_loss: 11.1859\n",
            "Epoch 28/100\n",
            "10/10 [==============================] - 3s 305ms/step - loss: 3.3696 - val_loss: 11.2557\n",
            "Epoch 29/100\n",
            "10/10 [==============================] - 3s 302ms/step - loss: 3.2263 - val_loss: 11.3205\n",
            "Epoch 30/100\n",
            "10/10 [==============================] - 3s 305ms/step - loss: 3.0819 - val_loss: 11.3302\n",
            "Epoch 31/100\n",
            "10/10 [==============================] - 3s 300ms/step - loss: 2.9793 - val_loss: 11.4628\n",
            "Epoch 32/100\n",
            "10/10 [==============================] - 3s 302ms/step - loss: 2.8175 - val_loss: 11.6584\n",
            "Epoch 33/100\n",
            "10/10 [==============================] - 3s 302ms/step - loss: 2.7240 - val_loss: 11.6620\n",
            "Epoch 34/100\n",
            "10/10 [==============================] - 3s 303ms/step - loss: 2.5500 - val_loss: 11.7223\n",
            "Epoch 35/100\n",
            "10/10 [==============================] - 3s 305ms/step - loss: 2.4717 - val_loss: 11.8270\n",
            "Epoch 36/100\n",
            "10/10 [==============================] - 3s 304ms/step - loss: 2.3275 - val_loss: 11.8921\n",
            "Epoch 37/100\n",
            "10/10 [==============================] - 3s 303ms/step - loss: 2.2284 - val_loss: 11.9065\n",
            "Epoch 38/100\n",
            "10/10 [==============================] - 3s 303ms/step - loss: 2.1150 - val_loss: 12.0389\n",
            "Epoch 39/100\n",
            "10/10 [==============================] - 3s 304ms/step - loss: 1.9898 - val_loss: 12.0839\n",
            "Epoch 40/100\n",
            "10/10 [==============================] - 3s 303ms/step - loss: 1.8832 - val_loss: 12.1596\n",
            "Epoch 41/100\n",
            "10/10 [==============================] - 3s 302ms/step - loss: 1.8013 - val_loss: 12.1856\n",
            "Epoch 42/100\n",
            "10/10 [==============================] - 3s 301ms/step - loss: 1.6784 - val_loss: 12.4007\n",
            "Epoch 43/100\n",
            "10/10 [==============================] - 3s 301ms/step - loss: 1.5856 - val_loss: 12.3650\n",
            "Epoch 44/100\n",
            "10/10 [==============================] - 3s 301ms/step - loss: 1.5057 - val_loss: 12.4259\n",
            "Epoch 45/100\n",
            "10/10 [==============================] - 3s 299ms/step - loss: 1.4241 - val_loss: 12.4819\n",
            "Epoch 46/100\n",
            "10/10 [==============================] - 3s 301ms/step - loss: 1.3347 - val_loss: 12.6047\n",
            "Epoch 47/100\n",
            "10/10 [==============================] - 3s 300ms/step - loss: 1.2362 - val_loss: 12.5951\n",
            "Epoch 48/100\n",
            "10/10 [==============================] - 3s 300ms/step - loss: 1.1673 - val_loss: 12.5808\n",
            "Epoch 49/100\n",
            "10/10 [==============================] - 3s 300ms/step - loss: 1.0894 - val_loss: 12.6604\n",
            "Epoch 50/100\n",
            "10/10 [==============================] - 3s 299ms/step - loss: 1.0315 - val_loss: 12.7767\n",
            "Epoch 51/100\n",
            "10/10 [==============================] - 3s 299ms/step - loss: 0.9519 - val_loss: 12.7242\n",
            "Epoch 52/100\n",
            "10/10 [==============================] - 3s 299ms/step - loss: 0.8753 - val_loss: 12.7702\n",
            "Epoch 53/100\n",
            "10/10 [==============================] - 3s 305ms/step - loss: 0.8156 - val_loss: 12.9036\n",
            "Epoch 54/100\n",
            "10/10 [==============================] - 3s 301ms/step - loss: 0.7590 - val_loss: 12.9539\n",
            "Epoch 55/100\n",
            "10/10 [==============================] - 3s 299ms/step - loss: 0.7151 - val_loss: 12.9272\n",
            "Epoch 56/100\n",
            "10/10 [==============================] - 3s 299ms/step - loss: 0.6546 - val_loss: 12.9340\n",
            "Epoch 57/100\n",
            "10/10 [==============================] - 3s 300ms/step - loss: 0.5862 - val_loss: 13.0931\n",
            "Epoch 58/100\n",
            "10/10 [==============================] - 3s 300ms/step - loss: 0.5550 - val_loss: 13.1191\n",
            "Epoch 59/100\n",
            "10/10 [==============================] - 3s 300ms/step - loss: 0.4932 - val_loss: 13.2861\n",
            "Epoch 60/100\n",
            "10/10 [==============================] - 3s 300ms/step - loss: 0.4720 - val_loss: 13.2155\n",
            "Epoch 61/100\n",
            "10/10 [==============================] - 3s 300ms/step - loss: 0.4120 - val_loss: 13.2435\n",
            "Epoch 62/100\n",
            "10/10 [==============================] - 3s 301ms/step - loss: 0.3760 - val_loss: 13.3341\n",
            "Epoch 63/100\n",
            "10/10 [==============================] - 3s 302ms/step - loss: 0.3634 - val_loss: 13.3029\n",
            "Epoch 64/100\n",
            "10/10 [==============================] - 3s 301ms/step - loss: 0.3140 - val_loss: 13.3183\n",
            "Epoch 65/100\n",
            "10/10 [==============================] - 3s 301ms/step - loss: 0.2801 - val_loss: 13.3976\n",
            "Epoch 66/100\n",
            "10/10 [==============================] - 3s 302ms/step - loss: 0.2496 - val_loss: 13.4977\n",
            "Epoch 67/100\n",
            "10/10 [==============================] - 3s 303ms/step - loss: 0.2514 - val_loss: 13.5418\n",
            "Epoch 68/100\n",
            "10/10 [==============================] - 3s 302ms/step - loss: 0.2047 - val_loss: 13.6001\n",
            "Epoch 69/100\n",
            "10/10 [==============================] - 3s 301ms/step - loss: 0.1790 - val_loss: 13.5245\n",
            "Epoch 70/100\n",
            "10/10 [==============================] - 3s 302ms/step - loss: 0.1662 - val_loss: 13.5996\n",
            "Epoch 71/100\n",
            "10/10 [==============================] - 3s 301ms/step - loss: 0.1596 - val_loss: 13.4912\n",
            "Epoch 72/100\n",
            "10/10 [==============================] - 3s 302ms/step - loss: 0.1436 - val_loss: 13.6517\n",
            "Epoch 73/100\n",
            "10/10 [==============================] - 3s 301ms/step - loss: 0.1063 - val_loss: 13.7505\n",
            "Epoch 74/100\n",
            "10/10 [==============================] - 3s 302ms/step - loss: 0.1132 - val_loss: 13.6581\n",
            "Epoch 75/100\n",
            "10/10 [==============================] - 3s 301ms/step - loss: 0.1047 - val_loss: 13.7862\n",
            "Epoch 76/100\n",
            "10/10 [==============================] - 3s 300ms/step - loss: 0.0734 - val_loss: 13.8313\n",
            "Epoch 77/100\n",
            "10/10 [==============================] - 3s 301ms/step - loss: 0.0809 - val_loss: 13.7929\n",
            "Epoch 78/100\n",
            "10/10 [==============================] - 3s 301ms/step - loss: 0.0590 - val_loss: 13.8982\n",
            "Epoch 79/100\n",
            "10/10 [==============================] - 3s 301ms/step - loss: 0.0590 - val_loss: 13.9630\n",
            "Epoch 80/100\n",
            "10/10 [==============================] - 3s 301ms/step - loss: 0.0820 - val_loss: 13.9337\n",
            "Epoch 81/100\n",
            "10/10 [==============================] - 3s 301ms/step - loss: 0.0375 - val_loss: 14.0164\n",
            "Epoch 82/100\n",
            "10/10 [==============================] - 3s 301ms/step - loss: 0.0360 - val_loss: 13.8029\n",
            "Epoch 83/100\n",
            "10/10 [==============================] - 3s 301ms/step - loss: 0.0548 - val_loss: 14.0677\n",
            "Epoch 84/100\n",
            "10/10 [==============================] - 3s 302ms/step - loss: 0.0263 - val_loss: 14.0534\n",
            "Epoch 85/100\n",
            "10/10 [==============================] - 3s 302ms/step - loss: 0.0196 - val_loss: 14.1204\n",
            "Epoch 86/100\n",
            "10/10 [==============================] - 3s 301ms/step - loss: 0.0500 - val_loss: 14.0953\n",
            "Epoch 87/100\n",
            "10/10 [==============================] - 3s 302ms/step - loss: 0.0238 - val_loss: 14.1167\n",
            "Epoch 88/100\n",
            "10/10 [==============================] - 3s 301ms/step - loss: 0.0187 - val_loss: 14.1778\n",
            "Epoch 89/100\n",
            "10/10 [==============================] - 3s 301ms/step - loss: 0.0136 - val_loss: 14.1745\n",
            "Epoch 90/100\n",
            "10/10 [==============================] - 3s 301ms/step - loss: 0.0120 - val_loss: 14.3035\n",
            "Epoch 91/100\n",
            "10/10 [==============================] - 3s 301ms/step - loss: 0.0635 - val_loss: 14.2047\n",
            "Epoch 92/100\n",
            "10/10 [==============================] - 3s 301ms/step - loss: 0.0158 - val_loss: 14.2259\n",
            "Epoch 93/100\n",
            "10/10 [==============================] - 3s 301ms/step - loss: 0.0099 - val_loss: 14.2763\n",
            "Epoch 94/100\n",
            "10/10 [==============================] - 3s 302ms/step - loss: 0.0077 - val_loss: 14.3096\n",
            "Epoch 95/100\n",
            "10/10 [==============================] - 3s 300ms/step - loss: 0.0068 - val_loss: 14.3617\n",
            "Epoch 96/100\n",
            "10/10 [==============================] - 3s 302ms/step - loss: 0.0204 - val_loss: 14.4517\n",
            "Epoch 97/100\n",
            "10/10 [==============================] - 3s 300ms/step - loss: 0.0461 - val_loss: 14.2366\n",
            "Epoch 98/100\n",
            "10/10 [==============================] - 3s 302ms/step - loss: 0.0093 - val_loss: 14.2705\n",
            "Epoch 99/100\n",
            "10/10 [==============================] - 3s 301ms/step - loss: 0.0062 - val_loss: 14.3322\n",
            "Epoch 100/100\n",
            "10/10 [==============================] - 3s 301ms/step - loss: 0.0050 - val_loss: 14.3712\n"
          ]
        }
      ],
      "source": [
        "history=model.fit([x_tr,y_tr[:,:-1]], y_tr.reshape(y_tr.shape[0],y_tr.shape[1], 1)[:,1:] ,epochs=100,callbacks=[es],batch_size=200, validation_data=([x_val,y_val[:,:-1]], y_val.reshape(y_val.shape[0],y_val.shape[1], 1)[:,1:]))"
      ]
    },
    {
      "cell_type": "code",
      "execution_count": null,
      "id": "f67de1f8",
      "metadata": {
        "colab": {
          "base_uri": "https://localhost:8080/",
          "height": 265
        },
        "id": "f67de1f8",
        "outputId": "1b2575b7-d6e9-47bc-cfb7-78999eb77b4e"
      },
      "outputs": [
        {
          "output_type": "display_data",
          "data": {
            "text/plain": [
              "<Figure size 432x288 with 1 Axes>"
            ],
            "image/png": "[encoded data removed]"
          },
          "metadata": {
            "needs_background": "light"
          }
        }
      ],
      "source": [
        "from matplotlib import pyplot \n",
        "pyplot.plot(history.history['loss'], label='train') \n",
        "pyplot.plot(history.history['val_loss'], label='test') \n",
        "pyplot.legend() \n",
        "pyplot.show()"
      ]
    },
    {
      "cell_type": "code",
      "execution_count": null,
      "id": "69ec9f1f",
      "metadata": {
        "id": "69ec9f1f"
      },
      "outputs": [],
      "source": [
        "reverse_target_word_index=y_tokenizer.index_word \n",
        "reverse_source_word_index=x_tokenizer.index_word \n",
        "target_word_index=y_tokenizer.word_index"
      ]
    },
    {
      "cell_type": "code",
      "execution_count": null,
      "id": "b9973d12",
      "metadata": {
        "id": "b9973d12"
      },
      "outputs": [],
      "source": [
        "# encoder inference\n",
        "encoder_model = Model(inputs=encoder_inputs,outputs=[encoder_outputs, state_h, state_c])\n",
        "\n",
        "# decoder inference\n",
        "# Below tensors will hold the states of the previous time step\n",
        "decoder_state_input_h = Input(shape=(latent_dim,))\n",
        "decoder_state_input_c = Input(shape=(latent_dim,))\n",
        "decoder_hidden_state_input = Input(shape=(max_len_text,latent_dim))\n",
        "\n",
        "# Get the embeddings of the decoder sequence\n",
        "dec_emb2= dec_emb_layer(decoder_inputs)\n",
        "\n",
        "# To predict the next word in the sequence, set the initial states to the states from the previous time step\n",
        "decoder_outputs2, state_h2, state_c2 = decoder_lstm(dec_emb2, initial_state=[decoder_state_input_h, decoder_state_input_c])\n",
        "\n",
        "#attention inference\n",
        "attn_out_inf, attn_states_inf = attn_layer([decoder_hidden_state_input, decoder_outputs2])\n",
        "decoder_inf_concat = Concatenate(axis=-1, name='concat')([decoder_outputs2, attn_out_inf])\n",
        "\n",
        "# A dense softmax layer to generate prob dist. over the target vocabulary\n",
        "decoder_outputs2 = decoder_dense(decoder_inf_concat)\n",
        "\n",
        "# Final decoder model\n",
        "decoder_model = Model(\n",
        "[decoder_inputs] + [decoder_hidden_state_input,decoder_state_input_h, decoder_state_input_c],\n",
        "[decoder_outputs2] + [state_h2, state_c2])"
      ]
    },
    {
      "cell_type": "code",
      "execution_count": null,
      "id": "d2cff1a6",
      "metadata": {
        "id": "d2cff1a6"
      },
      "outputs": [],
      "source": [
        "def decode_sequence(input_seq):\n",
        "    # Encode the input as state vectors.\n",
        "    e_out, e_h, e_c = encoder_model.predict(input_seq)\n",
        "\n",
        "    # Generate empty target sequence of length 1.\n",
        "    target_seq = np.zeros((1,1))\n",
        "\n",
        "    # Chose the 'start' word as the first word of the target sequence\n",
        "    target_seq[0, 0] = target_word_index['start']\n",
        "\n",
        "    stop_condition = False\n",
        "    decoded_sentence = ''\n",
        "    while not stop_condition:\n",
        "        output_tokens, h, c = decoder_model.predict([target_seq] + [e_out, e_h, e_c])\n",
        "\n",
        "        # Sample a token\n",
        "        sampled_token_index = np.argmax(output_tokens[0, -1, :])\n",
        "        sampled_token = reverse_target_word_index[sampled_token_index]\n",
        "\n",
        "        if(sampled_token!='end'):\n",
        "            decoded_sentence += ' '+sampled_token\n",
        "\n",
        "            # Exit condition: either hit max length or find stop word.\n",
        "            if (sampled_token == 'end' or len(decoded_sentence.split()) >= (max_len_summary-1)):\n",
        "                stop_condition = True\n",
        "\n",
        "        # Update the target sequence (of length 1).\n",
        "        target_seq = np.zeros((1,1))\n",
        "        target_seq[0, 0] = sampled_token_index\n",
        "\n",
        "        # Update internal states\n",
        "        e_h, e_c = h, c\n",
        "\n",
        "    return decoded_sentence"
      ]
    },
    {
      "cell_type": "code",
      "execution_count": null,
      "id": "cb1fc751",
      "metadata": {
        "id": "cb1fc751"
      },
      "outputs": [],
      "source": [
        "def seq2summary(input_seq):\n",
        "    newString=''\n",
        "    for i in input_seq:\n",
        "      if((i!=0 and i!=target_word_index['start']) and i!=target_word_index['end']):\n",
        "        newString=newString+reverse_target_word_index[i]+' '\n",
        "    return newString\n",
        "\n",
        "def seq2text(input_seq):\n",
        "    newString=''\n",
        "    for i in input_seq:\n",
        "      if(i!=0):\n",
        "        newString=newString+reverse_source_word_index[i]+' '\n",
        "    return newString"
      ]
    },
    {
      "cell_type": "code",
      "execution_count": null,
      "id": "dd865076",
      "metadata": {
        "id": "dd865076"
      },
      "outputs": [],
      "source": [
        "# for i in range(len(x_val)):\n",
        "#   print(\"Review:\",seq2text(x_val[i]))\n",
        "#   print(\"Original summary:\",seq2summary(y_val[i]))\n",
        "#   print(\"Predicted summary:\",decode_sequence(x_val[i].reshape(1,max_len_text)))\n",
        "#   print(\"\\n\")"
      ]
    },
    {
      "cell_type": "code",
      "execution_count": null,
      "id": "bc73e10e",
      "metadata": {
        "colab": {
          "base_uri": "https://localhost:8080/"
        },
        "id": "bc73e10e",
        "outputId": "baad0228-57b9-4a67-eade-d6790c8540ad"
      },
      "outputs": [
        {
          "output_type": "stream",
          "name": "stdout",
          "text": [
            "Review: design reuse enabling several benefits business environment companies consequently need study structure key engineering concepts field concepts could order support design situation existing product variety towards modular product family supports product configuration focus existing product variety example describes designing completely new product rare manufacturing industry risks paper presents advanced method description approach modular product family development compared earlier publication considering research method current situation analysed first original method description consider relevant aspects though considered industrial case discussed paper conclusion supported \n",
            "Original summary: presented method helps defining design information related key concepts \n",
            "Predicted summary:  the transitional mode while keeping the resulting asymptotic performance\n"
          ]
        }
      ],
      "source": [
        "  print(\"Review:\",seq2text(x_val[2]))\n",
        "  print(\"Original summary:\",seq2summary(y_val[2]))\n",
        "  print(\"Predicted summary:\",decode_sequence(x_val[2].reshape(1,max_len_text)))"
      ]
    },
    {
      "cell_type": "code",
      "source": [
        "print(\"Review:\",seq2text(x_val[3]))\n",
        "print(\"Original summary:\",seq2summary(y_val[3]))\n",
        "print(\"Predicted summary:\",decode_sequence(x_val[3].reshape(1,max_len_text)))"
      ],
      "metadata": {
        "colab": {
          "base_uri": "https://localhost:8080/"
        },
        "id": "yyzI3oW2Hugl",
        "outputId": "940dc05f-f310-4ea8-948e-549b82e41922"
      },
      "id": "yyzI3oW2Hugl",
      "execution_count": null,
      "outputs": [
        {
          "output_type": "stream",
          "name": "stdout",
          "text": [
            "Review: order investigate microstructure evolution inertia friction process ring part dynamic kinetic model established two dimensional axisymmetric coupled mechanical finite element model developed using msc marc software second development msc marc dynamic kinetic model integrated finite element model simulate microstructure evolution inertia friction process distributions dynamic fraction average grain size inertia friction process obtained analyzed inertia friction experiments ring parts carried comparison results show simulated results agree well measured ones \n",
            "Original summary: process simulated fraction average grain size process predicted accurately \n",
            "Predicted summary:  the proposed tracking algorithm performs well in challenging conditions\n"
          ]
        }
      ]
    },
    {
      "cell_type": "code",
      "source": [
        "!pip show tensorflow\n"
      ],
      "metadata": {
        "id": "szuVxKCDIRIa",
        "colab": {
          "base_uri": "https://localhost:8080/"
        },
        "outputId": "171e3330-fbe0-4232-c361-085b3908e34a"
      },
      "id": "szuVxKCDIRIa",
      "execution_count": null,
      "outputs": [
        {
          "output_type": "stream",
          "name": "stdout",
          "text": [
            "Name: tensorflow\n",
            "Version: 2.8.2+zzzcolab20220719082949\n",
            "Summary: TensorFlow is an open source machine learning framework for everyone.\n",
            "Home-page: https://www.tensorflow.org/\n",
            "Author: Google Inc.\n",
            "Author-email: packages@tensorflow.org\n",
            "License: Apache 2.0\n",
            "Location: /usr/local/lib/python3.7/dist-packages\n",
            "Requires: tensorboard, h5py, typing-extensions, setuptools, keras-preprocessing, tensorflow-estimator, termcolor, libclang, absl-py, opt-einsum, numpy, google-pasta, grpcio, protobuf, keras, wrapt, six, flatbuffers, gast, astunparse, tensorflow-io-gcs-filesystem\n",
            "Required-by: kapre\n"
          ]
        }
      ]
    },
    {
      "cell_type": "code",
      "source": [
        "!pip install pyrouge\n"
      ],
      "metadata": {
        "colab": {
          "base_uri": "https://localhost:8080/"
        },
        "id": "ocSIn6tcIk8f",
        "outputId": "7c5ed521-b918-4579-e3f7-2e4715e92d4a"
      },
      "id": "ocSIn6tcIk8f",
      "execution_count": null,
      "outputs": [
        {
          "output_type": "stream",
          "name": "stdout",
          "text": [
            "Looking in indexes: https://pypi.org/simple, https://us-python.pkg.dev/colab-wheels/public/simple/\n",
            "Requirement already satisfied: pyrouge in /usr/local/lib/python3.7/dist-packages (0.1.3)\n"
          ]
        }
      ]
    },
    {
      "cell_type": "code",
      "source": [
        "from rouge_score import rouge_scorer\n",
        "scorer = rouge_scorer.RougeScorer(['rouge1', 'rougeL'], use_stemmer=True)\n",
        "scores = scorer.score(f'{seq2summary(y_val[3])}',\n",
        "                      f'{decode_sequence(x_val[3].reshape(1,max_len_text))}')"
      ],
      "metadata": {
        "id": "tDBTgKFJIo86"
      },
      "id": "tDBTgKFJIo86",
      "execution_count": null,
      "outputs": []
    },
    {
      "cell_type": "code",
      "source": [
        "scores"
      ],
      "metadata": {
        "colab": {
          "base_uri": "https://localhost:8080/"
        },
        "id": "_Q0TdIKhJdGq",
        "outputId": "46f74b04-0062-4224-e1e1-562fe8e251aa"
      },
      "id": "_Q0TdIKhJdGq",
      "execution_count": null,
      "outputs": [
        {
          "output_type": "execute_result",
          "data": {
            "text/plain": [
              "{'rouge1': Score(precision=0.0, recall=0.0, fmeasure=0.0),\n",
              " 'rougeL': Score(precision=0.0, recall=0.0, fmeasure=0.0)}"
            ]
          },
          "metadata": {},
          "execution_count": 191
        }
      ]
    },
    {
      "cell_type": "code",
      "source": [],
      "metadata": {
        "id": "j5DLMWF_KoGR"
      },
      "id": "j5DLMWF_KoGR",
      "execution_count": null,
      "outputs": []
    }
  ],
  "metadata": {
    "kernelspec": {
      "display_name": "Python 3 (ipykernel)",
      "language": "python",
      "name": "python3"
    },
    "language_info": {
      "codemirror_mode": {
        "name": "ipython",
        "version": 3
      },
      "file_extension": ".py",
      "mimetype": "text/x-python",
      "name": "python",
      "nbconvert_exporter": "python",
      "pygments_lexer": "ipython3",
      "version": "3.10.0"
    },
    "colab": {
      "provenance": [],
      "collapsed_sections": [],
      "include_colab_link": true
    },
    "accelerator": "GPU",
    "gpuClass": "standard"
  },
  "nbformat": 4,
  "nbformat_minor": 5
}